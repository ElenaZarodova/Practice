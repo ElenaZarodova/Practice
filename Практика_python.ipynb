{
  "nbformat": 4,
  "nbformat_minor": 0,
  "metadata": {
    "colab": {
      "provenance": [],
      "authorship_tag": "ABX9TyOdKXNsrWdeVO2GcbXb0wPq"
    },
    "kernelspec": {
      "name": "python3",
      "display_name": "Python 3"
    },
    "language_info": {
      "name": "python"
    }
  },
  "cells": [
    {
      "cell_type": "markdown",
      "source": [
        "Зародова Елена Николаевна\n"
      ],
      "metadata": {
        "id": "lLM8m55j6v-d"
      }
    },
    {
      "cell_type": "code",
      "source": [
        "#Task 1\n",
        "print ('Привет, мир!')"
      ],
      "metadata": {
        "colab": {
          "base_uri": "https://localhost:8080/"
        },
        "id": "1bQ8KyAE63GL",
        "outputId": "c5bcee1a-619e-45d8-d20a-cb3bb89a826b"
      },
      "execution_count": null,
      "outputs": [
        {
          "output_type": "stream",
          "name": "stdout",
          "text": [
            "Привет, мир!\n"
          ]
        }
      ]
    },
    {
      "cell_type": "code",
      "source": [
        "#Task 2\n",
        "name=input('введите ваше имя: ')\n",
        "print ('Привет,', name)"
      ],
      "metadata": {
        "colab": {
          "base_uri": "https://localhost:8080/"
        },
        "id": "okRXf6J47Fq9",
        "outputId": "6cb32982-ab62-4103-caf7-4a46f8f8bab5"
      },
      "execution_count": null,
      "outputs": [
        {
          "output_type": "stream",
          "name": "stdout",
          "text": [
            "введите ваше имя: Елена \n",
            "Привет, Елена \n"
          ]
        }
      ]
    },
    {
      "cell_type": "code",
      "source": [
        "#Task 3\n",
        "num=int(input('Введите число: '))\n",
        "if num%2==0:\n",
        "  print ('Ваше число четное!')\n",
        "else:\n",
        "  print ('Ваше число не четное!')"
      ],
      "metadata": {
        "colab": {
          "base_uri": "https://localhost:8080/"
        },
        "id": "xjKIpqCk7aw2",
        "outputId": "84085bbc-aa83-4def-ca5c-cfc34bbd6bfe"
      },
      "execution_count": null,
      "outputs": [
        {
          "output_type": "stream",
          "name": "stdout",
          "text": [
            "Введите число: 256\n",
            "Ваше число четное!\n"
          ]
        }
      ]
    },
    {
      "cell_type": "code",
      "source": [
        "#Task 4\n",
        "width=int(input('Введите ширину прямоугольника: '))\n",
        "lenght=int(input('Введите длину прямоугольника: '))\n",
        "print ('Площадь прямоугольника: ', width*lenght)"
      ],
      "metadata": {
        "colab": {
          "base_uri": "https://localhost:8080/"
        },
        "id": "Log1zI1v8VFu",
        "outputId": "e71762e8-61a1-4e96-acf8-70a53e92e478"
      },
      "execution_count": null,
      "outputs": [
        {
          "output_type": "stream",
          "name": "stdout",
          "text": [
            "Введите ширину прямоугольника: 45\n",
            "Введите длину прямоугольника: 56\n",
            "Площадь прямоугольника:  2520\n"
          ]
        }
      ]
    },
    {
      "cell_type": "code",
      "source": [
        "#Task 5\n",
        "numbers=input('Введите числа через пробел: ')\n",
        "num1=numbers.split()\n",
        "spis=0\n",
        "for i in range (len(num1)):\n",
        "  spis+=int(num1[i])\n",
        "print('Среднее арифметическое ваших чисел: ',spis/len(num1))\n"
      ],
      "metadata": {
        "colab": {
          "base_uri": "https://localhost:8080/"
        },
        "id": "3oj5h0N_9Ftn",
        "outputId": "5a1959f0-37a4-4f78-e999-671d45815fbd"
      },
      "execution_count": null,
      "outputs": [
        {
          "output_type": "stream",
          "name": "stdout",
          "text": [
            "Введите числа через пробел: 1 2 3\n",
            "Среднее арифметическое ваших чисел:  2.0\n"
          ]
        }
      ]
    },
    {
      "cell_type": "code",
      "source": [
        "#Task 6\n",
        "year=int(input('Введите год: '))\n",
        "if year%4==0:\n",
        "  print ('Ваш год является високосным')\n",
        "else:\n",
        "  print ('Ваш год не является високосным')"
      ],
      "metadata": {
        "colab": {
          "base_uri": "https://localhost:8080/"
        },
        "id": "nK7JPJcE-Ivg",
        "outputId": "4c944b74-062c-48b3-9edd-a04e5537a384"
      },
      "execution_count": null,
      "outputs": [
        {
          "output_type": "stream",
          "name": "stdout",
          "text": [
            "Введите год: 2024\n",
            "Ваш год является високосным\n"
          ]
        }
      ]
    },
    {
      "cell_type": "code",
      "source": [
        "#Task 7\n",
        "operation=input('Введите операцию + - * / : ')\n",
        "num1=int(input('Введите первое число: '))\n",
        "num2=int(input('Введите второе число: '))\n",
        "if operation=='+':\n",
        "  print (num1+num2)\n",
        "elif operation=='-':\n",
        "  print (num1-num2)\n",
        "elif operation=='*':\n",
        "  print(num1*num2)\n",
        "else:\n",
        "  print (num1/num2)"
      ],
      "metadata": {
        "colab": {
          "base_uri": "https://localhost:8080/"
        },
        "id": "oQqcWqdAAE37",
        "outputId": "3babd027-67a3-4847-88c9-b75f51329dea"
      },
      "execution_count": null,
      "outputs": [
        {
          "output_type": "stream",
          "name": "stdout",
          "text": [
            "Введите операцию + - * / : /\n",
            "Введите первое число: 20\n",
            "Введите второе число: 2\n",
            "10.0\n"
          ]
        }
      ]
    },
    {
      "cell_type": "code",
      "source": [
        "\n",
        "#Chess\n",
        "figure=input('Введите название фигуры: ')\n",
        "start=tuple(map(int,input('Введите начальную координату в цифрах через запятую').split(',')))\n",
        "finish=tuple(map(int, input('Ввкдите конечную коордианту в цифрах чернез запятую').split(',')))\n",
        "def chess(figure,start,finish):\n",
        "  start_x, start_y=start\n",
        "  finish_x, finish_y=finish\n",
        "  if figure == 'пешка':\n",
        "    if start_x==finish_x and ((finish_y==start_y +1) or (start_y==2 and finish_y==start_y +2)):\n",
        "      return 1\n",
        "    return 0\n",
        "  elif figure=='ладья':\n",
        "    return start_x==finish_x or start_y==finish_y\n",
        "  elif figure=='слон':\n",
        "    return abs(start_x-finish_x)==abs(start_y-finish_y)\n",
        "  elif figure=='ферзь':\n",
        "    return start_x==finish_x or start_y==finish_y or (abs(start_x-finish_x)==abs(start_y-finish_y))\n",
        "  elif figure=='конь':\n",
        "    return (abs(finish_x-start_x)==2 and abs(finish_y-start_y)==1) or (abs(finish_x-start_x)==1 and abs(finish_y-start_y)==2)\n",
        "  elif figure=='король':\n",
        "    return abs(start_x-finish_x)<=1 and abs(start_y-finish_y)<=1\n",
        "  return 0\n",
        "if chess(figure,start,finish):\n",
        "  print ('фигура может так сходить')\n",
        "else:\n",
        "  print ('фигура НЕ может так сходить')"
      ],
      "metadata": {
        "id": "Ybm7Wfe3-2KE",
        "colab": {
          "base_uri": "https://localhost:8080/"
        },
        "outputId": "7d43be1c-afef-4dad-8341-bfd4a5c38f40"
      },
      "execution_count": null,
      "outputs": [
        {
          "output_type": "stream",
          "name": "stdout",
          "text": [
            "Введите название фигуры: пешка \n",
            "Введите начальную координату в цифрах через запятую1,1\n",
            "Ввкдите конечную коордианту в цифрах чернез запятую1,2\n",
            "фигура НЕ может так сходить\n"
          ]
        }
      ]
    },
    {
      "cell_type": "code",
      "source": [
        "#Цифра на определение\n",
        "numbers=input('введите ряд чисел без пробелов ')\n",
        "N=int(input('введите N '))\n",
        "\n",
        "if N<0 or N>len(numbers):\n",
        "  print('выход из диаозона возможных чисел')\n",
        "else:\n",
        "  pose=numbers[N-1]\n",
        "  print ('цифра на позиции ', N, '-', pose)"
      ],
      "metadata": {
        "colab": {
          "base_uri": "https://localhost:8080/"
        },
        "id": "VAV5ge0CV0ed",
        "outputId": "c1c15341-1a37-448e-cf76-49754f24722a"
      },
      "execution_count": null,
      "outputs": [
        {
          "output_type": "stream",
          "name": "stdout",
          "text": [
            "введите ряд чисел без пробелов 36278\n",
            "введите N 9\n",
            "выход из диаозона возможных чисел\n"
          ]
        }
      ]
    }
  ]
}