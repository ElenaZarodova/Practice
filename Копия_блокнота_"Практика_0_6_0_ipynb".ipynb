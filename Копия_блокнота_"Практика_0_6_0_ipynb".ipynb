{
  "nbformat": 4,
  "nbformat_minor": 0,
  "metadata": {
    "colab": {
      "provenance": []
    },
    "kernelspec": {
      "name": "python3",
      "display_name": "Python 3"
    },
    "language_info": {
      "name": "python"
    }
  },
  "cells": [
    {
      "cell_type": "markdown",
      "source": [
        "\n",
        "\n",
        "---\n",
        "\n"
      ],
      "metadata": {
        "id": "tKNG_RzWxG6g"
      }
    },
    {
      "cell_type": "markdown",
      "source": [
        "# **Дисклеймер**\n",
        "\n",
        "В данной практике будет введен дополнительный критерий: чистота и читаемость кода, а также соблюдение правил описанных в начале практики"
      ],
      "metadata": {
        "id": "cFcrKfclKWh0"
      }
    },
    {
      "cell_type": "markdown",
      "source": [
        "\n",
        "\n",
        "---\n",
        "\n"
      ],
      "metadata": {
        "id": "0SnE87X1xDlV"
      }
    },
    {
      "cell_type": "markdown",
      "source": [
        "# Задание 1\n",
        "\n",
        "**Задача:**\n",
        "\n",
        "Напишите функцию очищающий список от дубликтов\n",
        "\n",
        "\n",
        "*Запрещено:*\n",
        "\n",
        "*   Использовать set() или готовые функции очищающие список от дубликатов\n",
        "\n",
        "Вввод:\n",
        "\n",
        "```\n",
        "apple banana apple 1 3 4 4 5\n",
        "```\n",
        "\n",
        "\n",
        "Вывод:\n",
        "\n",
        "```\n",
        "apple banana 1 3 4 5\n",
        "```\n",
        "\n"
      ],
      "metadata": {
        "id": "VxawR9NubT_F"
      }
    },
    {
      "cell_type": "code",
      "source": [
        "def delete_duplicate(input_list):\n",
        "  result = []\n",
        "  for i in input_list:\n",
        "    if i not in result:\n",
        "      result.append(i)\n",
        "  return result\n",
        "\n",
        "\n",
        "input_list = input('введите список, который требуется изменить: ').split()\n",
        "finish_list = delete_duplicate(input_list)\n",
        "print (finish_list)"
      ],
      "metadata": {
        "id": "ml5gnbPXbeju",
        "colab": {
          "base_uri": "https://localhost:8080/"
        },
        "outputId": "fbf484ba-a82d-494f-e59b-69efefc05eae"
      },
      "execution_count": 1,
      "outputs": [
        {
          "output_type": "stream",
          "name": "stdout",
          "text": [
            "введите список, который требуется изменить: apple banana apple 1 3 4 4 5\n",
            "['apple', 'banana', '1', '3', '4', '5']\n"
          ]
        }
      ]
    },
    {
      "cell_type": "markdown",
      "source": [
        "# Задание 2\n",
        "\n",
        "**Задача:**\n",
        "\n",
        "Написать функцию для нахождения простых чисел в диапазоне\n",
        "\n",
        "Ввод:\n",
        "\n",
        "```\n",
        "10, 50\n",
        "```\n",
        "\n",
        "Вывод:\n",
        "\n",
        "```\n",
        "11, 13, 17, 19, 23, 29, 31, 37, 41, 43, 47\n",
        "```"
      ],
      "metadata": {
        "id": "y05x0eD0cVCC"
      }
    },
    {
      "cell_type": "code",
      "source": [
        "def find_simple_num (start, end):\n",
        "  result = []\n",
        "  for num in range (start, end+1):\n",
        "    if num > 1:\n",
        "      simple = True\n",
        "      for i in range (2, int((num**0.5) +1)):\n",
        "        if num % i == 0:\n",
        "          simple = False\n",
        "          break\n",
        "      if simple:\n",
        "        result.append(num)\n",
        "  return result\n",
        "\n",
        "\n",
        "start = int(input('введите первую границу диапозона: '))\n",
        "end = int(input('введите вторую границу диапозона: '))\n",
        "function = find_simple_num (start, end)\n",
        "finish_result=[]\n",
        "for num in function:\n",
        "  string_num = str(num)\n",
        "  finish_result.append(string_num)\n",
        "\n",
        "print(', '.join(finish_result))\n"
      ],
      "metadata": {
        "id": "XSMJnLgrc6Bf",
        "colab": {
          "base_uri": "https://localhost:8080/"
        },
        "outputId": "28790eb2-7073-4f45-b289-ded351cd2207"
      },
      "execution_count": null,
      "outputs": [
        {
          "output_type": "stream",
          "name": "stdout",
          "text": [
            "введите первую границу диапозона: 10\n",
            "введите вторую границу диапозона: 50\n",
            "11, 13, 17, 19, 23, 29, 31, 37, 41, 43, 47\n"
          ]
        }
      ]
    },
    {
      "cell_type": "code",
      "source": [
        "\n"
      ],
      "metadata": {
        "id": "M5KquBeRke8U"
      },
      "execution_count": null,
      "outputs": []
    },
    {
      "cell_type": "markdown",
      "source": [
        "# Задание 3\n",
        "\n",
        "Напишите функцию для объединения двух списков (список ключей и список значении) в словарь\n",
        "\n",
        "*Запрещено:*\n",
        "\n",
        "*   Использования готовых функции для объединения списков (пример: zip() )\n",
        "\n",
        "Дано:\n",
        "\n",
        "```\n",
        "keys = ['a', 'b', 'c', 'e' ]\n",
        "values = [1, 2, 3, 4]\n",
        "```\n",
        "\n",
        "Вывод:\n",
        "```\n",
        "{'a': 1, 'b': 2, 'c': 3, 'e': 4}\n",
        "```\n",
        "\n",
        "\n"
      ],
      "metadata": {
        "id": "vYM0LyxxdElN"
      }
    },
    {
      "cell_type": "code",
      "source": [
        "def unification_lists(keys, values):\n",
        "  res_dict = {}\n",
        "  min_len = min((len(keys)), (len(values)))\n",
        "  for i in range (min_len):\n",
        "    res_dict [keys[i]] = values[i]\n",
        "  return res_dict\n",
        "\n",
        "\n",
        "keys = ['a', 'b', 'c', 'e' ]\n",
        "values = [1, 2, 3, 4]\n",
        "result = unification_lists(keys, values)\n",
        "print (result)"
      ],
      "metadata": {
        "id": "CRvhHTjCdvjS",
        "colab": {
          "base_uri": "https://localhost:8080/"
        },
        "outputId": "d7826b82-73ea-4eec-eb32-2102982383ae"
      },
      "execution_count": null,
      "outputs": [
        {
          "output_type": "stream",
          "name": "stdout",
          "text": [
            "{'a': 1, 'b': 2, 'c': 3, 'e': 4}\n"
          ]
        }
      ]
    },
    {
      "cell_type": "markdown",
      "source": [
        "# Задание 4\n",
        "\n",
        "Напишите функцию(ии) для подсчета статистических параметров:\n",
        "*   Сумму\n",
        "*   Среднее арифметическое\n",
        "*   Медиану\n",
        "*   Моду\n",
        "\n",
        "\n",
        "*Запрещено:*\n",
        "\n",
        "*   sum()\n",
        "*   sorted()\n",
        "*   и других функции предоставляющих готовое решение задания\n",
        "\n",
        "Дано:\n",
        "\n",
        "```\n",
        "numbers = [1, 2, 2, 3, 4, 5, 6, 7, 8 ,9 ,10]\n",
        "\n",
        "```\n",
        "\n",
        "Вывод:\n",
        "```\n",
        "{'mean': 5.181818181818182, 'median': 5, 'mode': 2, 'sum': 57}\n",
        "```\n"
      ],
      "metadata": {
        "id": "L_w8H8i-fQcP"
      }
    },
    {
      "cell_type": "code",
      "source": [
        "def summa(numbers):\n",
        "    finish_sum = 0\n",
        "    frequency = {}\n",
        "    for num in numbers:\n",
        "      finish_sum += num\n",
        "    return finish_sum\n",
        "\n",
        "\n",
        "def find_mean(numbers):\n",
        "  finish_sum = 0\n",
        "  count = 0\n",
        "  for num in numbers:\n",
        "    finish_sum += num\n",
        "    count += 1\n",
        "    mean = finish_sum / count\n",
        "  return mean\n",
        "\n",
        "\n",
        "def find_median(numbers):\n",
        "    n = len(numbers)\n",
        "    middle1 = numbers[n // 2 - 1]\n",
        "    middle2 = numbers[n // 2]\n",
        "    median = (middle1 + middle2) / 2\n",
        "    median = int(median + 0.5)\n",
        "    return median\n",
        "\n",
        "\n",
        "def find_mode(numbers):\n",
        "    frequency = {}\n",
        "    for num in numbers:\n",
        "        if num in frequency:\n",
        "            frequency[num] += 1\n",
        "        else:\n",
        "            frequency[num] = 1\n",
        "    mode = None\n",
        "    max_count = 0\n",
        "    for num, count in frequency.items():\n",
        "        if count > max_count:\n",
        "            max_count = count\n",
        "            mode = num\n",
        "    return mode\n",
        "\n",
        "\n",
        "numbers = [1, 2, 2, 3, 4, 5, 6, 7, 8 ,9 ,10]\n",
        "summa_numbers = summa(numbers)\n",
        "mean = find_mean(numbers)\n",
        "median = find_median(numbers)\n",
        "mode = find_mode(numbers)\n",
        "print (f'sum {summa_numbers} mean {mean} median {median} mode {mode}')"
      ],
      "metadata": {
        "id": "dW6jW_rjfuba",
        "colab": {
          "base_uri": "https://localhost:8080/"
        },
        "outputId": "2cfe86e2-9d3d-425f-b88a-99f764600c1b"
      },
      "execution_count": null,
      "outputs": [
        {
          "output_type": "stream",
          "name": "stdout",
          "text": [
            "sum 57 mean 5.181818181818182 median 5 mode 2\n"
          ]
        }
      ]
    },
    {
      "cell_type": "markdown",
      "source": [
        "# Задание 5\n",
        "\n",
        "На ввод поступает строка символов. Строка состоит из слов, которые отделены друг от друга пробелами. Необходимо вывести самое длинное слово и его порядковый номер.\n",
        "\n",
        "*Запрещено:*\n",
        "\n",
        "*   len()\n",
        "\n",
        "Дано:\n",
        "\n",
        "```\n",
        "Страдание и боль всегда обязательны для широкого сознания и глубокого сердца.\n",
        "\n",
        "```\n",
        "\n",
        "Вывод:\n",
        "```\n",
        "Самое длинное слово с номером 5: обязательны\n",
        "```"
      ],
      "metadata": {
        "id": "hZW0NZ7SgTcp"
      }
    },
    {
      "cell_type": "code",
      "source": [
        "def longest_word(sentence):\n",
        "  words = sentence.split()\n",
        "  max_word = ''\n",
        "  index = 0\n",
        "  index_current = 1\n",
        "  for word in words:\n",
        "    current_word_len = 0\n",
        "    for i in word:\n",
        "      current_word_len += 1\n",
        "    max_word_len = 0\n",
        "    for i in max_word:\n",
        "      max_word_len += 1\n",
        "    if current_word_len > max_word_len:\n",
        "      max_word = word\n",
        "      index = index_current\n",
        "    index_current += 1\n",
        "  return index, max_word\n",
        "\n",
        "\n",
        "sentence = 'Страдание и боль всегда обязательны \\\n",
        "для широкого сознания и глубокого сердца.'\n",
        "index, word = longest_word(sentence)\n",
        "print (f'самое длинное слово с номером {index}:{word} ')"
      ],
      "metadata": {
        "id": "rC5DpHHLsDYp",
        "colab": {
          "base_uri": "https://localhost:8080/"
        },
        "outputId": "32fc8912-f2e0-41d5-cd72-fd3c5016f73c"
      },
      "execution_count": null,
      "outputs": [
        {
          "output_type": "stream",
          "name": "stdout",
          "text": [
            "самое длинное слово с номером 5:обязательны \n"
          ]
        }
      ]
    },
    {
      "cell_type": "markdown",
      "source": [
        "# Задание 6\n",
        "\n",
        "Напишите программу, для управления оценками студентов, со следующими функциями:\n",
        "\n",
        "* Добавление информации о студенте и его оценках.\n",
        "* Подсчет среднего балла студента.\n",
        "* Получение списка всех студентов с их средними баллами.\n",
        "* Поиск студента по имени и вывод его оценок и среднего балла.\n",
        "\n",
        "\n",
        "\n"
      ],
      "metadata": {
        "id": "k5BzJW5ZeaQN"
      }
    },
    {
      "cell_type": "code",
      "source": [
        "info_studient = {}\n",
        "\n",
        "\n",
        "def append_studient(name, subject, grades):\n",
        "  if name not in info_studient:\n",
        "    info_studient[name] = {}\n",
        "  if subject not in info_studient[name]:\n",
        "    info_studient[name][subject] = []\n",
        "  for grade in grades:\n",
        "    info_studient[name][subject].append(grade)\n",
        "\n",
        "\n",
        "def average_score(name):\n",
        "    if name in info_studient:\n",
        "        total_score = 0\n",
        "        total_grades = 0\n",
        "        for grades in info_studient[name].values():\n",
        "            total_score += sum(grades)\n",
        "            total_grades += len(grades)\n",
        "        if total_grades > 0:\n",
        "            aver = total_score / total_grades\n",
        "            print(f'Средний балл студента {name} составляет {aver}')\n",
        "        else:\n",
        "            print(f'У студента {name} нет оценок')\n",
        "    else:\n",
        "        print(f'Студент {name} не найден')\n",
        "\n",
        "\n",
        "def find_studient(name):\n",
        "    if name in info_studient:\n",
        "        print(f'Информация о студенте {name}:')\n",
        "        for subject, grades in info_studient[name].items():\n",
        "            if grades:\n",
        "                average = sum(grades) / len(grades)\n",
        "                print(f'  Предмет: {subject}, Оценки: {grades}, Средний балл: {average}')\n",
        "            else:\n",
        "                print(f'  Предмет: {subject}, Оценок нет')\n",
        "    else:\n",
        "        print(f'Студент {name} не найден')\n",
        "\n",
        "\n",
        "def view_information():\n",
        "    if info_studient:\n",
        "        print('Список всех студентов с их средними баллами:')\n",
        "        for name, subjects in info_studient.items():\n",
        "            total_score = 0\n",
        "            total_grades = 0\n",
        "            for grades in subjects.values():\n",
        "                total_score += sum(grades)\n",
        "                total_grades += len(grades)\n",
        "            if total_grades > 0:\n",
        "                average = total_score / total_grades\n",
        "                print(f'  Студент: {name}, Средний балл: {average}')\n",
        "            else:\n",
        "                print(f'  Студент: {name}, Оценок нет')\n",
        "    else:\n",
        "        print('Список студентов пуст')\n",
        "\n",
        "\n",
        "while True:\n",
        "  print ('вы находитесь в пункте управления оценками')\n",
        "  print ('выберите функцию, которую вам необходимо')\n",
        "  print ('1 - добавить информацию о студенте и его оценках')\n",
        "  print ('2 - подсчет среднего балла студента')\n",
        "  print ('3 - найти студента по имени и вывести его оценки и средний балл')\n",
        "  print ('4 - получить список всех студентов с их средними баллами')\n",
        "  print ('5 - выйти')\n",
        "  choice = input('Введите номер выбранной функции: ')\n",
        "\n",
        "  if choice == '1':\n",
        "    name = input('Введите имя студента: ')\n",
        "    subject = input('Введите название предмета: ')\n",
        "    grades = input('Введите оценки через пробел: ').split()\n",
        "    for grade in grades:\n",
        "      grades = [int(grade)]\n",
        "    append_studient(name, subject, grades)\n",
        "\n",
        "  elif choice == '2':\n",
        "    name = input('Введите имя студента для подсчета среднего балла: ')\n",
        "    average_score(name)\n",
        "\n",
        "  elif choice == '3':\n",
        "    name = input('Введите имя студента для поиска: ')\n",
        "    find_studient(name)\n",
        "\n",
        "  elif choice == '4':\n",
        "    view_information()\n",
        "\n",
        "  elif choice == '5':\n",
        "    print ('Выход из программы')\n",
        "    break\n",
        "\n",
        "  else:\n",
        "    print('Неверный ввод')"
      ],
      "metadata": {
        "id": "cvhlltVbdyoL",
        "colab": {
          "base_uri": "https://localhost:8080/"
        },
        "outputId": "79c3d8b2-8c69-42dc-b7e8-a912483f41b4"
      },
      "execution_count": null,
      "outputs": [
        {
          "output_type": "stream",
          "name": "stdout",
          "text": [
            "вы находитесь в пункте управления оценками\n",
            "выберите функцию, которую вам необходимо\n",
            "1 - добавить информацию о студенте и его оценках\n",
            "2 - подсчет среднего балла студента\n",
            "3 - найти студента по имени и вывести его оценки и средний балл\n",
            "4 - получить список всех студентов с их средними баллами\n",
            "5 - выйти\n",
            "Введите номер выбранной функции: 1\n",
            "Введите имя студента: Roma\n",
            "Введите название предмета: Math\n",
            "Введите оценки через пробел: 3 4 5 4 3\n",
            "вы находитесь в пункте управления оценками\n",
            "выберите функцию, которую вам необходимо\n",
            "1 - добавить информацию о студенте и его оценках\n",
            "2 - подсчет среднего балла студента\n",
            "3 - найти студента по имени и вывести его оценки и средний балл\n",
            "4 - получить список всех студентов с их средними баллами\n",
            "5 - выйти\n",
            "Введите номер выбранной функции: 2\n",
            "Введите имя студента для подсчета среднего балла: Roma\n",
            "Средний балл студента Roma составляет 3.0\n",
            "вы находитесь в пункте управления оценками\n",
            "выберите функцию, которую вам необходимо\n",
            "1 - добавить информацию о студенте и его оценках\n",
            "2 - подсчет среднего балла студента\n",
            "3 - найти студента по имени и вывести его оценки и средний балл\n",
            "4 - получить список всех студентов с их средними баллами\n",
            "5 - выйти\n",
            "Введите номер выбранной функции: 5\n",
            "Выход из программы\n"
          ]
        }
      ]
    },
    {
      "cell_type": "markdown",
      "source": [
        "# Задание 7\n",
        "\n",
        "\n",
        "**Задача:**\n",
        "\n",
        "Создайте приложение-викторину с командной строкой, которое задает пользователям вопросы по различным темам и отслеживает их результаты.\n",
        "\n",
        "Ключевые особенности:\n",
        "\n",
        "*   Хранение данных о вопросах и ответах на них, а также баллов за каждый вопрос\n",
        "*   Реализуйте функцию для представления вопросов, принятия ответов пользователей и предоставления обратной связи о том, являются ли ответы правильными или неправильными.\n",
        "*  После завершения викторины отобразите общий балл пользователя из числа ответов на вопросы.\n",
        "*  Реализуйте функцию добавления нового вопроса\n",
        "*  Реализуйте функцию перемешивания вопросов, для отображения случайного вопроса\n"
      ],
      "metadata": {
        "id": "iQ8Z-7PYgu1_"
      }
    },
    {
      "cell_type": "code",
      "source": [
        "import random\n",
        "\n",
        "\n",
        "questions_data = []\n",
        "\n",
        "\n",
        "def add_question(question, options, correct_option, points):\n",
        "    questions_data.append({\n",
        "        \"question\": question,\n",
        "        \"options\": options,\n",
        "        \"correct_option\": correct_option,\n",
        "        \"points\": points\n",
        "    })\n",
        "\n",
        "\n",
        "def shuffle_questions():\n",
        "    return random.sample(questions_data, len(questions_data))\n",
        "\n",
        "\n",
        "def conduct_quiz():\n",
        "    score = 0\n",
        "    shuffled_questions = shuffle_questions()\n",
        "\n",
        "    for q in shuffled_questions:\n",
        "        print(\"\\n\" + q[\"question\"])\n",
        "        for i, option in enumerate(q[\"options\"], 1):\n",
        "            print(f\"{i}. {option}\")\n",
        "\n",
        "        user_answer = input(\"Ваш ответ (номер): \")\n",
        "        if user_answer.isdigit():\n",
        "            user_answer = int(user_answer)\n",
        "            if 1 <= user_answer <= len(q[\"options\"]):\n",
        "                if q[\"options\"][user_answer - 1] == q[\"correct_option\"]:\n",
        "                    print(\"Правильно!\")\n",
        "                    score += q[\"points\"]\n",
        "                else:\n",
        "                    print(f\"Неправильно. Правильный ответ: {q['correct_option']}\")\n",
        "            else:\n",
        "                print(\"Недопустимый номер варианта.\")\n",
        "    print(f\"\\nВикторина окончена! Ваш итоговый балл: {score}\")\n",
        "\n",
        "\n",
        "def main():\n",
        "    while True:\n",
        "        print(\"Вы находитесь в Викторине. Вот какие функции у нас есть:\")\n",
        "        print(\"1 - Добавить новый вопрос\")\n",
        "        print(\"2 - Начать викторину\")\n",
        "        print(\"3 - Выйти\")\n",
        "        choice = input(\"Выберите действие: \")\n",
        "\n",
        "        if choice == '1':\n",
        "            question = input(\"Введите вопрос: \")\n",
        "            options = []\n",
        "            for i in range(4):\n",
        "                option = input(f\"Введите вариант ответа {i + 1}: \")\n",
        "                options.append(option)\n",
        "            correct_option = input(\"Введите правильный ответ из предложенных: \")\n",
        "            if correct_option not in options:\n",
        "                print(\"Правильный ответ должен быть среди предложенных вариантов.\")\n",
        "                continue\n",
        "            points = input(\"Введите количество баллов за правильный ответ: \")\n",
        "            if points.isdigit():\n",
        "                points = int(points)\n",
        "                add_question(question, options, correct_option, points)\n",
        "                print(\"Вопрос добавлен!\")\n",
        "            else:\n",
        "                print(\"Количество баллов должно быть числом.\")\n",
        "\n",
        "        if choice == '2':\n",
        "            if questions_data:\n",
        "                conduct_quiz()\n",
        "            else:\n",
        "                print(\"Сначала добавьте вопросы.\")\n",
        "\n",
        "        if choice == '3':\n",
        "            print(\"Выход из викторины...\")\n",
        "            break\n",
        "\n",
        "        else:\n",
        "            print(\"Неверный выбор, попробуйте снова.\")\n",
        "\n",
        "\n",
        "if __name__ == \"__main__\":\n",
        "    main()"
      ],
      "metadata": {
        "id": "DhxyYwHwh2V4",
        "colab": {
          "base_uri": "https://localhost:8080/"
        },
        "outputId": "ffbe5aff-fc03-4958-f586-65fd655bb45a"
      },
      "execution_count": 4,
      "outputs": [
        {
          "output_type": "stream",
          "name": "stdout",
          "text": [
            "Вы находитесь в Викторине. Вот какие функции у нас есть:\n",
            "1 - Добавить новый вопрос\n",
            "2 - Начать викторину\n",
            "3 - Выйти\n",
            "Выберите действие: 1\n",
            "Введите вопрос: Что такое пп\n",
            "Введите вариант ответа 1: алар\n",
            "Введите вариант ответа 2: щп\n",
            "Введите вариант ответа 3: дп\n",
            "Введите вариант ответа 4: еа\n",
            "Введите правильный ответ из предложенных: дп\n",
            "Введите количество баллов за правильный ответ: 2\n",
            "Вопрос добавлен!\n",
            "Неверный выбор, попробуйте снова.\n",
            "Вы находитесь в Викторине. Вот какие функции у нас есть:\n",
            "1 - Добавить новый вопрос\n",
            "2 - Начать викторину\n",
            "3 - Выйти\n",
            "Выберите действие: 2\n",
            "\n",
            "Что такое пп\n",
            "1. алар\n",
            "2. щп\n",
            "3. дп\n",
            "4. еа\n",
            "Ваш ответ (номер): 3\n",
            "Правильно!\n",
            "\n",
            "Викторина окончена! Ваш итоговый балл: 2\n",
            "Неверный выбор, попробуйте снова.\n",
            "Вы находитесь в Викторине. Вот какие функции у нас есть:\n",
            "1 - Добавить новый вопрос\n",
            "2 - Начать викторину\n",
            "3 - Выйти\n",
            "Выберите действие: 3\n",
            "Выход из викторины...\n"
          ]
        }
      ]
    }
  ]
}