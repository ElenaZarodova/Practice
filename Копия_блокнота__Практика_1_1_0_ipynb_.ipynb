{
  "nbformat": 4,
  "nbformat_minor": 0,
  "metadata": {
    "colab": {
      "provenance": []
    },
    "kernelspec": {
      "name": "python3",
      "display_name": "Python 3"
    },
    "language_info": {
      "name": "python"
    }
  },
  "cells": [
    {
      "cell_type": "markdown",
      "source": [
        "**ФИО:**"
      ],
      "metadata": {
        "id": "GEsFKJm-ABFp"
      }
    },
    {
      "cell_type": "code",
      "execution_count": null,
      "metadata": {
        "id": "wZMLYG_G_-19"
      },
      "outputs": [],
      "source": [
        "Зародова Елена Николаевна"
      ]
    },
    {
      "cell_type": "markdown",
      "source": [
        "# Задание 1"
      ],
      "metadata": {
        "id": "H4DrYnJjADuZ"
      }
    },
    {
      "cell_type": "markdown",
      "source": [
        "**Описание:** Создайте иерархию классов для разных типов сотрудников в компании. Реализуйте родительский класс Employee и дочерние классы Manager и Developer. Каждый класс должен иметь метод для расчета зарплаты на основе различных критериев класса.\n",
        "\n",
        "\n",
        "Отрабатываемый принцип: Наследование\n",
        "\n"
      ],
      "metadata": {
        "id": "C17FWep-AF4a"
      }
    },
    {
      "cell_type": "code",
      "source": [
        "class Employee:\n",
        "    def __init__(self, name, base_salary):\n",
        "        self.name = name\n",
        "        self.base_salary = base_salary\n",
        "\n",
        "    def calculate_salary(self):\n",
        "        return self.base_salary\n",
        "\n",
        "class Manager(Employee):\n",
        "    def __init__(self, name, base_salary, bonus):\n",
        "        super().__init__(name, base_salary)\n",
        "        self.bonus = bonus\n",
        "\n",
        "    def calculate_salary(self):\n",
        "        return self.base_salary + self.bonus\n",
        "\n",
        "class Developer(Employee):\n",
        "    def __init__(self, name, base_salary, projects_completed):\n",
        "        super().__init__(name, base_salary)\n",
        "        self.projects_completed = projects_completed\n",
        "\n",
        "    def calculate_salary(self):\n",
        "        project_bonus = self.projects_completed * 3000\n",
        "        return self.base_salary + project_bonus\n",
        "\n",
        "manager = Manager(\"Иван\", 55000, 10000)\n",
        "developer = Developer(\"Екатерина\", 70000, 3)\n",
        "\n",
        "\n",
        "print(\"Имя менеджера:\", manager.name)\n",
        "print(\"Базовая зарплата:\", manager.base_salary)\n",
        "print(\"Конечная зарплата менеджера:\", manager.calculate_salary())\n",
        "\n",
        "print(\"Имя разработчика:\", developer.name)\n",
        "print(\"Базовая зарплата:\", developer.base_salary)\n",
        "print(\"Конечная зарплата разработчика:\", developer.calculate_salary())\n"
      ],
      "metadata": {
        "id": "aexGXzqCAFH7",
        "colab": {
          "base_uri": "https://localhost:8080/"
        },
        "outputId": "624251fe-604b-4bb4-abdf-e29f69b6b17f"
      },
      "execution_count": null,
      "outputs": [
        {
          "output_type": "stream",
          "name": "stdout",
          "text": [
            "Имя менеджера: Иван\n",
            "Базовая зарплата: 55000\n",
            "Конечная зарплата менеджера: 65000\n",
            "Имя разработчика: Екатерина\n",
            "Базовая зарплата: 70000\n",
            "Конечная зарплата разработчика: 79000\n"
          ]
        }
      ]
    },
    {
      "cell_type": "markdown",
      "source": [
        "# Задание 2"
      ],
      "metadata": {
        "id": "ERAi0TG5BI6v"
      }
    },
    {
      "cell_type": "markdown",
      "source": [
        "**Описание:** Создайте иерархию классов для различных типов транспортных средств (Необходим один родительский класс и 3 дочерних). Реализуйте метод, который позволяет каждому транспортному средству возвращать собственное описание (Метод в каждом классе должен иметь одинаковое название). Продемонстрируйте вызов данного метода для каждого транспортного средства.\n",
        "\n",
        "\n",
        "Отрабатываемый принцип: Полиморфизм"
      ],
      "metadata": {
        "id": "sJ3k7ZcgBK87"
      }
    },
    {
      "cell_type": "code",
      "source": [
        "class Vehicle:\n",
        "  def get_own_description(self):\n",
        "   return  \"Это транспортное средство\"\n",
        "\n",
        "class Car(Vehicle):\n",
        "  def __init__ (self, brand, model):\n",
        "    self.brand = brand\n",
        "    self.model = model\n",
        "\n",
        "  def get_own_description(self):\n",
        "    return f\"Этот автомобиль марки {self.brand} модель {self.model}\"\n",
        "\n",
        "class Bus(Vehicle):\n",
        "  def __init__(self, number, bus_type):\n",
        "    self.number = number\n",
        "    self.bus_type = bus_type\n",
        "\n",
        "  def get_own_description(self):\n",
        "    return f\"Этот автобус с номером {self.number} тип {self.bus_type}\"\n",
        "\n",
        "class Boat(Vehicle):\n",
        "  def __init__(self, name, capacity):\n",
        "    self.name = name\n",
        "    self.capacity = capacity\n",
        "\n",
        "  def get_own_description(self):\n",
        "    return f\"Эта лодка с названием {self.name} вместительность {self.capacity}\"\n",
        "\n",
        "vehicles =[\n",
        "    Car(\"Hyndai\", \"Solaris\"),\n",
        "    Bus(49, \"Пассажирский\"),\n",
        "    Boat(\"Odyssey\", 2)\n",
        "]\n",
        "\n",
        "for vehicle in vehicles:\n",
        "  print (vehicle.get_own_description())"
      ],
      "metadata": {
        "id": "WOFOZQmDBKf4",
        "colab": {
          "base_uri": "https://localhost:8080/"
        },
        "outputId": "df1a8bd4-6e16-4b36-a354-d41c94d3684e"
      },
      "execution_count": null,
      "outputs": [
        {
          "output_type": "stream",
          "name": "stdout",
          "text": [
            "Этот автомобиль марки Hyndai модель Solaris\n",
            "Этот автобус с номером 49 тип Пассажирский\n",
            "Эта лодка с названием Odyssey вместительность 2\n"
          ]
        }
      ]
    },
    {
      "cell_type": "markdown",
      "source": [
        "# Задание 3"
      ],
      "metadata": {
        "id": "7E_SJXMJBvD4"
      }
    },
    {
      "cell_type": "markdown",
      "source": [
        "Онлайн-магазин:\n",
        "- Создайте модель для онлайн-магазина с классами Product, Order, Customer, и ShoppingCart.\n",
        "- Product включает информацию о цене, наличии на складе и категории товара.\n",
        "Order обрабатывает процесс покупки, включая расчет цены с учетом скидок и налогов.\n",
        "- Customer управляет информацией о пользователе и его истории заказов.\n",
        "- ShoppingCart позволяет добавлять, удалять и обновлять количество товаров перед оформлением заказа.\n"
      ],
      "metadata": {
        "id": "dd1mwKj_BxHa"
      }
    },
    {
      "cell_type": "code",
      "source": [
        "class Product:\n",
        "  def __init__(self, name, price, availability, category):\n",
        "    self.name = name\n",
        "    self.price = price\n",
        "    self.availability = availability\n",
        "    self.category = category\n",
        "\n",
        "  def status(self):\n",
        "    print (f\"Цена {self.name} - {self.price} рублей.\"\n",
        "     f\"На складе {self.availability}, категория {self.category}\")\n",
        "\n",
        "  def replenish_storage(self, quantity):\n",
        "    self.availability -= quantity\n",
        "    if self.availability < 0:\n",
        "      self.availability = 0\n",
        "    print(f\"Товар {self.name} остался на складе в количестве {self.availability}\")\n",
        "\n",
        "class Order:\n",
        "  def __init__(self, client):\n",
        "    self.client = client\n",
        "    self.items_list = []\n",
        "    self.total_price = 0\n",
        "\n",
        "  def add_product(self, product, quantity):\n",
        "    if product.availability >= quantity:\n",
        "      self.items_list.append ((product, quantity))\n",
        "      product.replenish_storage(quantity)\n",
        "      print (f\"Товар {product.name} добавлен к заказу в количестве {quantity}\")\n",
        "    else:\n",
        "      print (\"На складе недостаточно товара :(\")\n",
        "\n",
        "  def calculate_total(self, discount=0, tax=0):\n",
        "    subtotal = sum(product.price * quantity for product, quantity in self.items_list)\n",
        "    self.total_price = subtotal * (1 - discount) * (1 + tax)\n",
        "    return self.total_price\n",
        "\n",
        "  def checkout(self):\n",
        "    print(f\"Заказ {self.client.name}:\")\n",
        "    print(f\"Общая стоимость: {self.calculate_total():.2f} рублей\")\n",
        "    for product, quantity in self.items_list:\n",
        "      print(f\"-{product.name}:{quantity} штук по цене {product.price} за ед.\")\n",
        "\n",
        "class Customer:\n",
        "  def __init__(self, name, email):\n",
        "    self.name = name\n",
        "    self.email = email\n",
        "    self.order_history = []\n",
        "\n",
        "  def add_order(self, order):\n",
        "    self.order_history.append(order)\n",
        "    print(f\"Заказ добавлен в историю заказов клиента {self.name}.\")\n",
        "\n",
        "class ShoppingCart:\n",
        "  def __init__(self, customer):\n",
        "    self.customer = customer\n",
        "    self.items_list = []\n",
        "\n",
        "  def add_to_cart(self, product, quantity):\n",
        "    self.items_list.append((product, quantity))\n",
        "    print(f\"Товар '{product.name}' добавлен в корзину ({quantity} шт.).\")\n",
        "\n",
        "  def remove_from_cart(self, product):\n",
        "    self.items_list= [(p, q) for p, q in self.items if p != product]\n",
        "    print(f\"Товар '{product.name}' удален из корзины.\")\n",
        "\n",
        "  def update_quantity(self, product, quantity):\n",
        "    for i, (p, q) in enumerate(self.items_list):\n",
        "      if p == product:\n",
        "        self.items_list[i] = (p, quantity)\n",
        "        print(f\"Количество товара '{product.name}' обновлено до {quantity} шт.\")\n",
        "        return\n",
        "    print(f\"Товар '{product.name}' не найден в корзине.\")\n",
        "\n",
        "  def checkout(self):\n",
        "    order = Order(self.customer)\n",
        "    for product, quantity in self.items_list:\n",
        "        order.add_product(product, quantity)\n",
        "    self.customer.add_order(order)\n",
        "    order.checkout()\n",
        "\n",
        "product_1 = Product (name = \"Худи\", price = 2599, availability = 12,\n",
        "                     category = \"Толстовки и худи\")\n",
        "product_2 = Product (name = \"Юбка\", price = 1100, availability = 7,\n",
        "                     category = \"Юбки\")\n",
        "\n",
        "\n",
        "customer = Customer (name = \"Анна\", email = \"ann666@mail.ru\")\n",
        "cart = ShoppingCart (customer)\n",
        "\n",
        "cart.add_to_cart(product_1, 2)\n",
        "cart.add_to_cart(product_2, 1)\n",
        "cart.checkout()\n",
        "product_1.status()\n"
      ],
      "metadata": {
        "id": "wkCcv_K-Bwdv",
        "colab": {
          "base_uri": "https://localhost:8080/"
        },
        "outputId": "dc6de273-36e1-444b-fb1d-75dcd920e8c0"
      },
      "execution_count": null,
      "outputs": [
        {
          "output_type": "stream",
          "name": "stdout",
          "text": [
            "Товар 'Худи' добавлен в корзину (2 шт.).\n",
            "Товар 'Юбка' добавлен в корзину (1 шт.).\n",
            "Товар Худи остался на складе в количестве 10\n",
            "Товар Худи добавлен к заказу в количестве 2\n",
            "Товар Юбка остался на складе в количестве 6\n",
            "Товар Юбка добавлен к заказу в количестве 1\n",
            "Заказ добавлен в историю заказов клиента Анна.\n",
            "Заказ Анна:\n",
            "Общая стоимость: 6298.00 рублей\n",
            "-Худи:2 штук по цене 2599 за ед.\n",
            "-Юбка:1 штук по цене 1100 за ед.\n",
            "Цена Худи - 2599 рублей.На складе 10, категория Толстовки и худи\n"
          ]
        }
      ]
    },
    {
      "cell_type": "markdown",
      "source": [
        "# Задание 4"
      ],
      "metadata": {
        "id": "ih7iPlYfB7lL"
      }
    },
    {
      "cell_type": "markdown",
      "source": [
        "Симулятор космического корабля:\n",
        "- Создайте симулятор управления космическим кораблем с классами SpaceShip, CrewMember, и Mission.\n",
        "- SpaceShip имеет атрибуты для управления топливом, состоянием корпуса, и текущей скоростью.\n",
        "- CrewMember контролирует здоровье, навыки, и роли в команде (например, пилот, инженер).\n",
        "- Mission определяет цели, ресурсы, и возможные события (например, аварии, встречи с астероидами)."
      ],
      "metadata": {
        "id": "zLwqVCbpCBvc"
      }
    },
    {
      "cell_type": "code",
      "source": [
        "class SpaceShip:\n",
        "  def __init__(self, fuel, hull_condition, speed):\n",
        "    self.fuel = fuel\n",
        "    self.hull_condition = hull_condition\n",
        "    self.speed = speed\n",
        "\n",
        "  def fly(self, distance):\n",
        "    fuel_needed = distance * self.speed * 0.1\n",
        "    if fuel_needed > self.fuel:\n",
        "        print(\"Недостаточно топлива для полета!\")\n",
        "        return\n",
        "    self.fuel -= fuel_needed\n",
        "    print(f\"Корабль успешно полетел на {distance} единиц.\"\n",
        "     f\"Оставшееся топливо: {self.fuel}%.\")\n",
        "\n",
        "  def repair_hull(self, amount):\n",
        "    self.hull_condition += amount\n",
        "    if self.hull_condition > 100:\n",
        "      self.hull_condition = 100\n",
        "    print(f\"Корпус отремонтирован.\"\n",
        "    f\"Текущее состояние корпуса: {self.hull_condition}%.\")\n",
        "\n",
        "  def status(self):\n",
        "    print(f\"Корабль - Топливо: {self.fuel}%,\"\n",
        "    f\"Состояние корпуса: {self.hull_condition}%, Скорость: {self.speed}.\")\n",
        "\n",
        "class CrewMember:\n",
        "  def __init__(self, name, role, health, skills):\n",
        "    self.name = name\n",
        "    self.role = role\n",
        "    self.health = health\n",
        "    self.skills = skills\n",
        "\n",
        "  def status(self):\n",
        "    print(f\"{self.name} - Роль: {self.role},\"\n",
        "    f\"Здоровье: {self.health}%, Навыки: {', '.join(self.skills)}.\")\n",
        "\n",
        "class Mission:\n",
        "  def __init__(self, objectives, resources):\n",
        "    self.objectives = objectives\n",
        "    self.resources = resources\n",
        "\n",
        "  def status(self):\n",
        "    print(\"Цели миссии:\")\n",
        "    for objective in self.objectives:\n",
        "        print(f\"- {objective}\")\n",
        "    print(\"Ресурсы:\")\n",
        "    for resource in self.resources:\n",
        "        print(f\"- {resource}\")\n",
        "\n",
        "\n",
        "ship = SpaceShip(fuel=100, hull_condition=90, speed=10)\n",
        "\n",
        "crew_member1 = CrewMember(name=\"Инокентий\", role=\"Пилот\",\n",
        "                          health=100, skills=[\"навигация\", \"отвественность\"])\n",
        "crew_member2 = CrewMember(name=\"Михаил\", role=\"Инженер\",health=90,\n",
        "                          skills=[\"внимательнгость\", \"просто чилловый парень\"])\n",
        "\n",
        "mission = Mission(objectives=[\"Исследование новой планеты\", \"Сбор образцов\"],\n",
        "                  resources=[\"Топливо\", \"Продовольствие\"])\n",
        "\n",
        "ship.status()\n",
        "crew_member1.status()\n",
        "crew_member2.status()\n",
        "mission.status()\n",
        "ship.fly(distance=5)\n",
        "ship.repair_hull(amount=10)\n"
      ],
      "metadata": {
        "id": "4NyrOOy8B9ED",
        "colab": {
          "base_uri": "https://localhost:8080/"
        },
        "outputId": "7ce4d9ff-a4e3-4332-e9e1-98933d265c4a"
      },
      "execution_count": null,
      "outputs": [
        {
          "output_type": "stream",
          "name": "stdout",
          "text": [
            "Корабль - Топливо: 100%,Состояние корпуса: 90%, Скорость: 10.\n",
            "Инокентий - Роль: Пилот,Здоровье: 100%, Навыки: навигация, отвественность.\n",
            "Михаил - Роль: Инженер,Здоровье: 90%, Навыки: внимательнгость, просто чилловый парень.\n",
            "Цели миссии:\n",
            "- Исследование новой планеты\n",
            "- Сбор образцов\n",
            "Ресурсы:\n",
            "- Топливо\n",
            "- Продовольствие\n",
            "Корабль успешно полетел на 5 единиц.Оставшееся топливо: 95.0%.\n",
            "Корпус отремонтирован.Текущее состояние корпуса: 100%.\n"
          ]
        }
      ]
    },
    {
      "cell_type": "markdown",
      "source": [
        "# Дополнительно:"
      ],
      "metadata": {
        "id": "F7mRVsZjCXk0"
      }
    },
    {
      "cell_type": "markdown",
      "source": [
        "**Описание:** создайте консольную версию игры крестики-нолики, используя классы"
      ],
      "metadata": {
        "id": "X4Lkf86UCc1h"
      }
    },
    {
      "cell_type": "code",
      "source": [],
      "metadata": {
        "id": "x9OxpNsyCcUo"
      },
      "execution_count": null,
      "outputs": []
    }
  ]
}