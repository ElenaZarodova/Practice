{
  "nbformat": 4,
  "nbformat_minor": 0,
  "metadata": {
    "colab": {
      "provenance": []
    },
    "kernelspec": {
      "name": "python3",
      "display_name": "Python 3"
    },
    "language_info": {
      "name": "python"
    }
  },
  "cells": [
    {
      "cell_type": "markdown",
      "source": [
        "ФИО:  Зародова Елена Николаевна ( зачтено 22 11 2024)\n"
      ],
      "metadata": {
        "id": "fLDS5f_mCnPa"
      }
    },
    {
      "cell_type": "markdown",
      "source": [
        "# Задание (совместное с преподавателем)\n",
        "\n",
        "\n"
      ],
      "metadata": {
        "id": "-CSHUbWzCqeM"
      }
    },
    {
      "cell_type": "markdown",
      "source": [
        "Напишите систему для учёта отпусков с возможностью узнавать, сколько дней отпуска осталось у того или иного сотрудника.\n",
        "Для этого создайте класс Employee со следующими методами:\n",
        "\n",
        "- Метод consume_vacation должен отвечать за списание дней отпуска.\n",
        "\n",
        "Единственный параметр этого метода (кроме self) — количество потраченных отпускных дней (целое число).\n",
        "\n",
        "При вызове метода consume_vacation соответствующее количество дней должно вычитаться из общего числа доступных отпускных дней сотрудника.\n",
        "\n",
        "Чтобы определить число доступных отпускных дней конкретного сотрудника, в классе опишите атрибут экземпляра |, который по умолчанию будет равен значению атрибута класса vacation_days, и используйте этот атрибут в работе метода.\n",
        "\n",
        "- Метод get_vacation_details должен возвращать остаток отпускных дней сотрудника в формате: ```Остаток отпускных дней: <число>.```\n",
        "\n",
        "\n",
        "Чтобы проверить работу программы:\n",
        "1. Создайте экземпляр класса Employee.\n",
        "2. Вызовите метод consume_vacation, указав подходящее значение аргумента, например 7.\n",
        "3. Вызовите метод get_vacation_details."
      ],
      "metadata": {
        "id": "a_flBjZOCwYz"
      }
    },
    {
      "cell_type": "code",
      "source": [
        "class Employee:\n",
        "  vacation_days = 28\n",
        "\n",
        "  def __init__(self, first_name, second_name, gender):\n",
        "    self.first_name = first_name\n",
        "    self.second_name = second_name\n",
        "    self.gender = gender\n",
        "    self.remainig_vacation_days = self.vacation_days\n",
        "\n",
        "  def consume_vacation(self, days):\n",
        "    self.remainig_vacation_days -= days\n",
        "\n",
        "  def get_vacation_details (self):\n",
        "    return f'Остаток отпускных дней: {self.remainig_vacation_days}.'\n"
      ],
      "metadata": {
        "id": "G4bUraN4CwBI"
      },
      "execution_count": null,
      "outputs": []
    },
    {
      "cell_type": "code",
      "source": [
        "employee = Employee('Олег', \"СуперОлег\", \"м\")\n",
        "employee2 = Employee('Олег', \"НеСуперОлег\", \"м\")\n",
        "\n",
        "print(f'\\nИмя:',employee.first_name,\n",
        "      f'\\nФамилия:',employee.second_name,\n",
        "      f'\\nПол:',employee.gender,\n",
        "      f'\\nКоличество доступных дней:',employee.remaining_vacation_days,'\\n')\n",
        "\n",
        "print('-'*20)\n",
        "\n",
        "print(f'\\nИмя:',employee2.first_name,\n",
        "      f'\\nФамилия:',employee2.second_name,\n",
        "      f'\\nПол:',employee2.gender,\n",
        "      f'\\nКоличество доступных дней:',employee2.remaining_vacation_days,'\\n')\n",
        "\n"
      ],
      "metadata": {
        "colab": {
          "base_uri": "https://localhost:8080/",
          "height": 211
        },
        "id": "QphxAswLVxFX",
        "outputId": "6187d8ed-eda3-47ba-db2e-458a79d35947"
      },
      "execution_count": null,
      "outputs": [
        {
          "output_type": "error",
          "ename": "AttributeError",
          "evalue": "'Employee' object has no attribute 'remaining_vacation_days'",
          "traceback": [
            "\u001b[0;31m---------------------------------------------------------------------------\u001b[0m",
            "\u001b[0;31mAttributeError\u001b[0m                            Traceback (most recent call last)",
            "\u001b[0;32m<ipython-input-2-1d223e6f2141>\u001b[0m in \u001b[0;36m<cell line: 4>\u001b[0;34m()\u001b[0m\n\u001b[1;32m      5\u001b[0m       \u001b[0;34mf'\\nФамилия:'\u001b[0m\u001b[0;34m,\u001b[0m\u001b[0memployee\u001b[0m\u001b[0;34m.\u001b[0m\u001b[0msecond_name\u001b[0m\u001b[0;34m,\u001b[0m\u001b[0;34m\u001b[0m\u001b[0;34m\u001b[0m\u001b[0m\n\u001b[1;32m      6\u001b[0m       \u001b[0;34mf'\\nПол:'\u001b[0m\u001b[0;34m,\u001b[0m\u001b[0memployee\u001b[0m\u001b[0;34m.\u001b[0m\u001b[0mgender\u001b[0m\u001b[0;34m,\u001b[0m\u001b[0;34m\u001b[0m\u001b[0;34m\u001b[0m\u001b[0m\n\u001b[0;32m----> 7\u001b[0;31m       f'\\nКоличество доступных дней:',employee.remaining_vacation_days,'\\n')\n\u001b[0m\u001b[1;32m      8\u001b[0m \u001b[0;34m\u001b[0m\u001b[0m\n\u001b[1;32m      9\u001b[0m \u001b[0mprint\u001b[0m\u001b[0;34m(\u001b[0m\u001b[0;34m'-'\u001b[0m\u001b[0;34m*\u001b[0m\u001b[0;36m20\u001b[0m\u001b[0;34m)\u001b[0m\u001b[0;34m\u001b[0m\u001b[0;34m\u001b[0m\u001b[0m\n",
            "\u001b[0;31mAttributeError\u001b[0m: 'Employee' object has no attribute 'remaining_vacation_days'"
          ]
        }
      ]
    },
    {
      "cell_type": "markdown",
      "source": [
        "# Задание 1"
      ],
      "metadata": {
        "id": "8XGka5GtEBK1"
      }
    },
    {
      "cell_type": "markdown",
      "source": [
        "Задание:\n",
        "\n",
        "Создайте класс с именем Rectangle который имеет:\n",
        "- Атрибуты ширины и высоты.\n",
        "- Метод расчета площади.\n",
        "- Метод расчета периметра.\n",
        "- Метод отображения размеров прямоугольника.\n",
        "\n",
        "Создайте экземпляр класса Rectangleи продемонстрируйте его функциональность."
      ],
      "metadata": {
        "id": "jQ4qqd8nEZBY"
      }
    },
    {
      "cell_type": "code",
      "source": [
        "class Rectangle:\n",
        "\n",
        "  def __init__(self, wight, height):\n",
        "    self.wight = wight\n",
        "    self.height = height\n",
        "\n",
        "  def area(self):\n",
        "    return self.wight*self.height\n",
        "\n",
        "  def perimeter(self):\n",
        "    return 2*(self.wight + self.height)\n",
        "\n",
        "  def size(self):\n",
        "    return f\"Ширина {self.wight} Высота {self.height}\"\n",
        "\n",
        "\n",
        "rectangle = Rectangle(5, 7)\n",
        "\n",
        "print (rectangle.size())\n",
        "print (f\"Площадь {rectangle.area()}\")\n",
        "print (f\"Периметр {rectangle.perimeter()}\")"
      ],
      "metadata": {
        "id": "dG6uNPqTEAvt",
        "colab": {
          "base_uri": "https://localhost:8080/"
        },
        "outputId": "4b50613e-f21b-4172-8403-89c720750baa"
      },
      "execution_count": null,
      "outputs": [
        {
          "output_type": "stream",
          "name": "stdout",
          "text": [
            "Ширина 5 Высота 7\n",
            "Площадь 35\n",
            "Периметр 24\n"
          ]
        }
      ]
    },
    {
      "cell_type": "markdown",
      "source": [
        "# Задание 2"
      ],
      "metadata": {
        "id": "0ct1u6lqE73j"
      }
    },
    {
      "cell_type": "markdown",
      "source": [
        "Задание: Создайте мини версию банковской системы:\n",
        "\n",
        "\n",
        "Инструкции:\n",
        "\n",
        "1. Создайте класс BankAccountсо следующими атрибутами:\n",
        "    - account_holder -  владелец счета\n",
        "    - balance - баланс счета\n",
        "\n",
        "2. Реализуйте следующие методы:\n",
        "    - Метод для инициализации владельца счета: имя владельца счета и установите начальный баланс на 0.\n",
        "    - deposit(amount): Добавьте указанную сумму к балансу.\n",
        "    - withdraw(amount): Вычесть указанную сумму из баланса, если средств достаточно; в противном случае вывести предупреждение.\n",
        "    - get_balance(): Возврат текущего баланса.\n",
        "\n",
        "\n",
        "Создайте объект класса и продемонстрируйте его возможности"
      ],
      "metadata": {
        "id": "FOpIpcLxE-WK"
      }
    },
    {
      "cell_type": "code",
      "source": [
        "class BankAccountсо():\n",
        "\n",
        "  def __init__(self, account_holder):\n",
        "    self.account_holder = account_holder\n",
        "    self.balance = 0\n",
        "\n",
        "  def deposit(self, amount):\n",
        "    if amount > 0:\n",
        "      self.balance += amount\n",
        "      print (f\"На счет {self.account_holder} добавлено {amount} \"\n",
        "       f\"баланс составляет {self.balance}\")\n",
        "    else:\n",
        "      print (\"Сумма введена неверно\")\n",
        "\n",
        "  def withdraw(self, amount):\n",
        "    if amount <= self.balance:\n",
        "      self.balance -= amount\n",
        "      print (f\"Со счета {self.account_holder} вычли {amount} \"\n",
        "      f\"баланс составляет {self.balance}\")\n",
        "    else:\n",
        "      print (\"Недостаточно средств\")\n",
        "\n",
        "  def get_balance(self):\n",
        "    return self.balance\n",
        "\n",
        "\n",
        "account = BankAccountсо('Зубенко Михаил Петрович')\n",
        "\n",
        "account.deposit(100)\n",
        "account.withdraw(2)\n",
        "print(f\"Текущий баланс {account.get_balance()}\")\n",
        "account.withdraw(300)"
      ],
      "metadata": {
        "id": "WWXNIUrCE99W",
        "colab": {
          "base_uri": "https://localhost:8080/"
        },
        "outputId": "50e4f6eb-6684-433f-d8ae-7cc4c04a272d"
      },
      "execution_count": null,
      "outputs": [
        {
          "output_type": "stream",
          "name": "stdout",
          "text": [
            "На счет Зубенко Михаил Петрович добавлено 100баланс составляет 100\n",
            "Со счета Зубенко Михаил Петрович вычли 2баланс составляет 98\n",
            "Текущий баланс 98\n",
            "Недостаточно средств\n"
          ]
        }
      ]
    },
    {
      "cell_type": "markdown",
      "source": [
        "# Задание 3"
      ],
      "metadata": {
        "id": "C5DX5Uf2FfP6"
      }
    },
    {
      "cell_type": "markdown",
      "source": [
        "Возьмите код и задание (Рыцарь и дракон) из предыдущей практики и реализуйте его с применением классов"
      ],
      "metadata": {
        "id": "0cR-MYepFgz6"
      }
    },
    {
      "cell_type": "code",
      "source": [
        "import random\n",
        "\n",
        "class Character():\n",
        "\n",
        "  def __init__(self, name, armor, weapon, damage_range, health):\n",
        "    self.name = name\n",
        "    self.armor = armor\n",
        "    self.weapon = weapon\n",
        "    self.damage_range = damage_range\n",
        "    self.health = health\n",
        "\n",
        "  def attack(self, defender):\n",
        "\n",
        "    damage = random.randint(*self.damage_range)\n",
        "    defender.health -= damage\n",
        "    print(f\"{self.name} наносит {damage} урона. \"\n",
        "          f\"У {defender.name} осталось {defender.health} здоровья.\")\n",
        "\n",
        "\n",
        "knight_name = input('Введите имя рыцаря ')\n",
        "knight = Character (knight_name, \"Кольчужный доспех\", \"Меч\", (10, 20), 100)\n",
        "dragon = Character(\"Огнекрыл\", \"Чепрак\", \"Огонь\", (5, 15), 150)\n",
        "\n",
        "print(f\"\\n{knight.name} в доспехах {knight.armor} \"\n",
        "      f\"и с оружием {knight.weapon} сражается с драконом {dragon.name}!\")\n",
        "\n",
        "while knight.health > 0 and dragon.health > 0:\n",
        "  input(\"\\nНажмите Enter для атаки...\")\n",
        "  knight.attack(dragon)\n",
        "  if dragon.health <= 0:\n",
        "    print(f\"\\n{dragon.name} побежден! {knight.name} одержал победу!\")\n",
        "    break\n",
        "\n",
        "  dragon.attack (knight)\n",
        "  if knight.health <= 0:\n",
        "    print(f\"\\n{knight.name} пал в бою. {dragon.name} одержал победу!\")\n",
        "    break\n",
        "\n"
      ],
      "metadata": {
        "id": "Oz9BZbhAFwua",
        "colab": {
          "base_uri": "https://localhost:8080/"
        },
        "outputId": "cbdd6182-90ee-4d8d-e930-589369eb6acc"
      },
      "execution_count": null,
      "outputs": [
        {
          "output_type": "stream",
          "name": "stdout",
          "text": [
            "Введите имя рыцаря vgkhgvfkh\n",
            "\n",
            "vgkhgvfkh в доспехах Кольчужный доспех и с оружием Меч сражается с драконом Огнекрыл!\n",
            "\n",
            "Нажмите Enter для атаки...\n",
            "vgkhgvfkh наносит 13 урона. У Огнекрыл осталось 137 здоровья.\n",
            "Огнекрыл наносит 12 урона. У vgkhgvfkh осталось 88 здоровья.\n",
            "\n",
            "Нажмите Enter для атаки...\n",
            "vgkhgvfkh наносит 14 урона. У Огнекрыл осталось 123 здоровья.\n",
            "Огнекрыл наносит 15 урона. У vgkhgvfkh осталось 73 здоровья.\n",
            "\n",
            "Нажмите Enter для атаки...\n",
            "vgkhgvfkh наносит 14 урона. У Огнекрыл осталось 109 здоровья.\n",
            "Огнекрыл наносит 7 урона. У vgkhgvfkh осталось 66 здоровья.\n",
            "\n",
            "Нажмите Enter для атаки...\n",
            "vgkhgvfkh наносит 20 урона. У Огнекрыл осталось 89 здоровья.\n",
            "Огнекрыл наносит 9 урона. У vgkhgvfkh осталось 57 здоровья.\n",
            "\n",
            "Нажмите Enter для атаки...\n",
            "vgkhgvfkh наносит 19 урона. У Огнекрыл осталось 70 здоровья.\n",
            "Огнекрыл наносит 11 урона. У vgkhgvfkh осталось 46 здоровья.\n",
            "\n",
            "Нажмите Enter для атаки...\n",
            "vgkhgvfkh наносит 15 урона. У Огнекрыл осталось 55 здоровья.\n",
            "Огнекрыл наносит 14 урона. У vgkhgvfkh осталось 32 здоровья.\n",
            "\n",
            "Нажмите Enter для атаки...\n",
            "vgkhgvfkh наносит 14 урона. У Огнекрыл осталось 41 здоровья.\n",
            "Огнекрыл наносит 13 урона. У vgkhgvfkh осталось 19 здоровья.\n",
            "\n",
            "Нажмите Enter для атаки...\n",
            "vgkhgvfkh наносит 16 урона. У Огнекрыл осталось 25 здоровья.\n",
            "Огнекрыл наносит 12 урона. У vgkhgvfkh осталось 7 здоровья.\n",
            "\n",
            "Нажмите Enter для атаки...\n",
            "vgkhgvfkh наносит 18 урона. У Огнекрыл осталось 7 здоровья.\n",
            "Огнекрыл наносит 6 урона. У vgkhgvfkh осталось 1 здоровья.\n",
            "\n",
            "Нажмите Enter для атаки...\n",
            "vgkhgvfkh наносит 19 урона. У Огнекрыл осталось -12 здоровья.\n",
            "\n",
            "Огнекрыл побежден! vgkhgvfkh одержал победу!\n"
          ]
        }
      ]
    },
    {
      "cell_type": "markdown",
      "source": [
        "# Дополнительное задание\n"
      ],
      "metadata": {
        "id": "b_mJHXcQGI9t"
      }
    },
    {
      "cell_type": "markdown",
      "source": [
        "Задача: Система управления библиотекой\n",
        "\n",
        "**Цель**\n",
        "Создайте простую систему управления библиотекой, которая позволит пользователям добавлять книги, брать книги, возвращать книги и просматривать список доступных книг.\n",
        "\n",
        "**Требования**\n",
        "\n",
        "1. **Определение класса**:\n",
        "   – Создайте класс с именем «Book» со следующими атрибутами:\n",
        "     - `title`\n",
        "     - `автор`\n",
        "     - `isbn`\n",
        "     - `is_borrowed` (по умолчанию `False`)\n",
        "\n",
        "2. **Класс библиотеки**:\n",
        "   - Создайте класс с именем Library, который управляет коллекцией книг.\n",
        "   - Класс должен иметь следующие методы:\n",
        "     - `__init__(self)`: инициализирует пустой список книг.\n",
        "     - `add_book(self, book: Book)`: добавляет новую книгу в библиотеку.\n",
        "     - `borrow_book(self, isbn: str)`: помечает книгу как заимствованную. Если книга не найдена или уже взята, выведите соответствующее сообщение.\n",
        "     - `return_book(self, isbn: str)`: помечает книгу как возвращенную. Если книга не найдена или не была взята взаймы, выведите соответствующее сообщение.\n",
        "     - `list_available_books(self)`: печатает список всех доступных книг в библиотеке.\n",
        "     - `find_book(self, isbn: str)`: возвращает объект книги, если он найден, в противном случае возвращает `None`.\n",
        "\n",
        "3. **Взаимодействие с пользователем**:\n",
        "   - Создайте простое текстовое меню, которое позволит пользователям:\n",
        "     - Добавить книгу\n",
        "     - Одолжить книгу\n",
        "     - Вернуть книгу\n",
        "     - Список доступных книг\n",
        "     - Выйти из программы"
      ],
      "metadata": {
        "id": "pnIUdFPcGOVL"
      }
    },
    {
      "cell_type": "code",
      "source": [
        "class Book():\n",
        "  def __init__(self, title, author, isbn):\n",
        "    self.title = title\n",
        "    self.author = author\n",
        "    self.isbn = isbn\n",
        "    self.is_borrowed = False\n",
        "\n",
        "class Library():\n",
        "  def __init__():\n",
        "    self_book\n"
      ],
      "metadata": {
        "id": "GKKmdfN8GL6f"
      },
      "execution_count": null,
      "outputs": []
    }
  ]
}