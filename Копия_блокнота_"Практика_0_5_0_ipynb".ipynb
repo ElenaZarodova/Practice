{
  "nbformat": 4,
  "nbformat_minor": 0,
  "metadata": {
    "colab": {
      "provenance": []
    },
    "kernelspec": {
      "name": "python3",
      "display_name": "Python 3"
    },
    "language_info": {
      "name": "python"
    }
  },
  "cells": [
    {
      "cell_type": "markdown",
      "source": [
        "ФИО:"
      ],
      "metadata": {
        "id": "Bu5gIJfHNPHw"
      }
    },
    {
      "cell_type": "code",
      "execution_count": null,
      "metadata": {
        "id": "CbHI8c7cM9Eg"
      },
      "outputs": [],
      "source": [
        "Зародова Елена Николаевна"
      ]
    },
    {
      "cell_type": "markdown",
      "source": [
        "# **Задание 1**"
      ],
      "metadata": {
        "id": "VrNrBpmocGRd"
      }
    },
    {
      "cell_type": "markdown",
      "source": [
        "\n",
        "\n",
        "Дан словарь, содержащий имена и возраст людей, напишите программу выводящую возраст человека по имени\n",
        "\n",
        "Дано:\n",
        "\n",
        "```\n",
        "{\"Alice\": 25, \"Bob\": 30, \"Charlie\": 35}\n",
        "```\n",
        "\n",
        "Вввод:\n",
        "\n",
        "\n",
        "```\n",
        "Alice\n",
        "```\n",
        "\n",
        "Вывод:\n",
        "\n",
        "\n",
        "```\n",
        "Alice 25\n",
        "```\n"
      ],
      "metadata": {
        "id": "XhV1bnm1bR2h"
      }
    },
    {
      "cell_type": "code",
      "source": [
        "dict_name={\"Alice\": 25, \"Bob\": 30, \"Charlie\": 35}\n",
        "name=input('Ввод ')\n",
        "if name in dict_name:\n",
        "  print (f\"{name} {dict_name[name]}\")\n"
      ],
      "metadata": {
        "id": "PElJj6DvsgjD",
        "colab": {
          "base_uri": "https://localhost:8080/"
        },
        "outputId": "78f12552-9cb7-4120-dde6-9325d8cc515b"
      },
      "execution_count": null,
      "outputs": [
        {
          "output_type": "stream",
          "name": "stdout",
          "text": [
            "Ввод Alice\n",
            "Alice 25\n"
          ]
        }
      ]
    },
    {
      "cell_type": "markdown",
      "source": [
        "# **Задание 2**\n"
      ],
      "metadata": {
        "id": "lpjJz-_YcJ-t"
      }
    },
    {
      "cell_type": "markdown",
      "source": [
        "\n",
        "\n",
        "Дан список, состоящий из целых чисел, необходимо написать функцию считающую сумму всех положительных четных чисел списка\n",
        "\n",
        "Ввод:\n",
        "\n",
        "```\n",
        "1, 2, 3, 4, 5, 6, 7, 8, 9\n",
        "```\n",
        "\n",
        "Вывод:\n",
        "\n",
        "\n",
        "```\n",
        "20\n",
        "```\n",
        "\n",
        "***Запрещено:***\n",
        "\n",
        "*   Использование готовых функций для суммирования чисел\n"
      ],
      "metadata": {
        "id": "tMEsAB4rUiWW"
      }
    },
    {
      "cell_type": "code",
      "source": [
        "num_vvod=input('введите числа через запятую: ').split(',')\n",
        "numbers=[int(n) for n in num_vvod]\n",
        "sum=0\n",
        "for num in numbers:\n",
        "  if num>0 and num%2==0:\n",
        "    sum+=num\n",
        "print (sum)"
      ],
      "metadata": {
        "id": "wDNUFLeqNQS_",
        "colab": {
          "base_uri": "https://localhost:8080/"
        },
        "outputId": "e327503e-d772-48d0-8dca-11b4a6d4a43a"
      },
      "execution_count": null,
      "outputs": [
        {
          "output_type": "stream",
          "name": "stdout",
          "text": [
            "введите числа через запятую: 1, 2, 3, 4, 5, 6, 7, 8, 9\n",
            "20\n"
          ]
        }
      ]
    },
    {
      "cell_type": "markdown",
      "source": [
        "# **Задание 3**"
      ],
      "metadata": {
        "id": "WT_v-vz1dUZJ"
      }
    },
    {
      "cell_type": "markdown",
      "source": [
        "Дан словарь, содержащий название фрукта и его цвет, выведите список всех желтых фруктов\n",
        "\n",
        "\n",
        "Дано:\n",
        "\n",
        "```\n",
        "fruits_and_colors = {\n",
        "    \"apple\": \"red\",\n",
        "    \"banana\": \"yellow\",\n",
        "    \"mango\": \"yellow\",\n",
        "    \"orange\": \"orange\",\n",
        "    \"lemon\": \"yellow\",\n",
        "    \"grape\": \"purple\"\n",
        "}\n",
        "```\n",
        "\n",
        "Вывод:\n",
        "\n",
        "\n",
        "```\n",
        "Yellow fruits:\n",
        "banana\n",
        "lemon\n",
        "mango\n",
        "```\n",
        "\n"
      ],
      "metadata": {
        "id": "ZI5Xeh2DdXgF"
      }
    },
    {
      "cell_type": "code",
      "source": [
        "fruits_and_colors = {\n",
        "    \"apple\": \"red\",\n",
        "    \"banana\": \"yellow\",\n",
        "    \"mango\": \"yellow\",\n",
        "    \"orange\": \"orange\",\n",
        "    \"lemon\": \"yellow\",\n",
        "    \"grape\": \"purple\"\n",
        "}\n",
        "\n",
        "y_fruits=[]\n",
        "\n",
        "for v,k in fruits_and_colors.items():\n",
        "  if k=='yellow':\n",
        "    y_fruits.append (v)\n",
        "\n",
        "print ('yellow fruits', y_fruits)\n",
        "\n"
      ],
      "metadata": {
        "id": "aNzFTkhKdkTG",
        "colab": {
          "base_uri": "https://localhost:8080/"
        },
        "outputId": "05f851c5-07a4-4439-e544-9b5ab8061ef0"
      },
      "execution_count": null,
      "outputs": [
        {
          "output_type": "stream",
          "name": "stdout",
          "text": [
            "yellow fruits ['banana', 'mango', 'lemon']\n"
          ]
        }
      ]
    },
    {
      "cell_type": "markdown",
      "source": [
        "# **Задание 4**\n"
      ],
      "metadata": {
        "id": "iHtMGt2icM7w"
      }
    },
    {
      "cell_type": "markdown",
      "source": [
        "\n",
        "\n",
        "Дан словарь, необходимо написать функцию меняющую ключ и значение местами\n",
        "\n",
        "Дано:\n",
        "\n",
        "\n",
        "```\n",
        "{\"a\": 1, \"b\": 2, \"c\": 3}\n",
        "```\n",
        "\n",
        "Вывод:\n",
        "\n",
        "```\n",
        "{1: 'a', 2: 'b', 3: 'c'}\n",
        "```\n",
        "\n"
      ],
      "metadata": {
        "id": "rS3THsnBQ_EB"
      }
    },
    {
      "cell_type": "code",
      "source": [
        "dict_num={\"a\": 1, \"b\": 2, \"c\": 3}\n",
        "dict_num_obrat={}\n",
        "for k in dict_num.keys():\n",
        "  v=dict_num[k]\n",
        "  dict_num_obrat[v]=k\n",
        "\n",
        "print (dict_num_obrat)"
      ],
      "metadata": {
        "id": "MNRusyLDcQ59",
        "colab": {
          "base_uri": "https://localhost:8080/"
        },
        "outputId": "6f6507e9-565c-4584-be8a-eaf6ef27a313"
      },
      "execution_count": null,
      "outputs": [
        {
          "output_type": "stream",
          "name": "stdout",
          "text": [
            "{1: 'a', 2: 'b', 3: 'c'}\n"
          ]
        }
      ]
    },
    {
      "cell_type": "markdown",
      "source": [
        "# **Задание 5**"
      ],
      "metadata": {
        "id": "x6ff5nd0cUxD"
      }
    },
    {
      "cell_type": "markdown",
      "source": [
        "Дан список слов, неограниченной длинны, сформируйте словарь, где в качестве ключа будет слово, а в качестве значения количество слов\n",
        "\n",
        "**Критерии**\n",
        "\n",
        "\n",
        "*   Словарь необходимо отсортировать по убыванию количества элементов в списке.\n",
        "*   Подсчет элементов должен быть реализован в отдельной функции\n",
        "*   Сортировка пары `ключ:значение` должна быть реализована также в виде отдельной функции\n",
        "\n",
        "\n",
        "\n",
        "\n",
        "Дано:\n",
        "```\n",
        "['apple','banana','orange','apple','apple','banana']\n",
        "```\n",
        "\n",
        "\n",
        "Вывод:\n",
        "```\n",
        "{'apple':3, 'banana': 2, 'orange': 1}\n",
        "```\n",
        "\n",
        "***Запрещено:***\n",
        "\n",
        "*   Использование готовых функций для сортировки\n",
        "*   Использование готовых функций для подсчета элементов\n",
        "\n"
      ],
      "metadata": {
        "id": "ypQNHOG4NQz3"
      }
    },
    {
      "cell_type": "code",
      "source": [
        "# Подсказка: сортировку словаря можно сделать через две функции (нахождение максимального эллемента и основной функции сортировки)\n",
        "\n",
        "def count_words(words):\n",
        "  word_count={}\n",
        "  for word in words:\n",
        "    if word in word_count:\n",
        "      word_count[word]+=1\n",
        "    else:\n",
        "      word_count[word]=1\n",
        "  return word_count\n",
        "\n",
        "\n",
        "def find_max(dict_1):\n",
        "  max_k=0\n",
        "  max_v=-1\n",
        "  for key, value in dict_1.items():\n",
        "    if max_v< value:\n",
        "      max_v=value\n",
        "      max_k=key\n",
        "  return max_k, max_v\n",
        "\n",
        "\n",
        "def sorting(dict_1):\n",
        "  sorted_dict={}\n",
        "  while dict_1 !={}:\n",
        "    max_k, max_v=find_max(dict_1)\n",
        "    sorted_dict[max_k] = max_v\n",
        "    del dict_1[max_k]\n",
        "  return sorted_dict\n",
        "\n",
        "\n",
        "def main():\n",
        "  fruits=['apple','banana','orange','apple','apple','banana']\n",
        "  word_count=count_words(fruits)\n",
        "  sorted_dict=sorting(word_count)\n",
        "  print(sorted_dict)\n",
        "\n",
        "\n",
        "if __name__ == \"__main__\":\n",
        "  main()\n"
      ],
      "metadata": {
        "id": "J10PjdVQUbyq",
        "colab": {
          "base_uri": "https://localhost:8080/"
        },
        "outputId": "2f6e4f1e-0f93-4a1c-b3ad-f9aa2644b85b"
      },
      "execution_count": null,
      "outputs": [
        {
          "output_type": "stream",
          "name": "stdout",
          "text": [
            "{'apple': 3, 'banana': 2, 'orange': 1}\n"
          ]
        }
      ]
    },
    {
      "cell_type": "markdown",
      "source": [
        "# **Задание 6**"
      ],
      "metadata": {
        "id": "d7fDUr2WcY_G"
      }
    },
    {
      "cell_type": "markdown",
      "source": [
        "Дан словарь, содержащий информацию о людях, необходимо:\n",
        "\n",
        "\n",
        "\n",
        "*   Вывести всех людей старше 30 лет\n",
        "*   Вывести список городов и количество людей из словаря проживающих в них\n",
        "*   Вывести список профессий и список людей для каждой профессии\n",
        "\n",
        "**Критерии**\n",
        "\n",
        "Каждый из пунктов необходимо реализовать в виде функции\n",
        "\n"
      ],
      "metadata": {
        "id": "m11qdVhSWBi7"
      }
    },
    {
      "cell_type": "code",
      "source": [
        "people_info = {\n",
        "    \"Alice\": {\"age\": 25, \"city\": \"New York\", \"occupation\": \"Engineer\"},\n",
        "    \"Bob\": {\"age\": 30, \"city\": \"Los Angeles\", \"occupation\": \"Designer\"},\n",
        "    \"Charlie\": {\"age\": 35, \"city\": \"Chicago\", \"occupation\": \"Teacher\"},\n",
        "    \"Diana\": {\"age\": 28, \"city\": \"Miami\", \"occupation\": \"Doctor\"},\n",
        "    \"Ethan\": {\"age\": 40, \"city\": \"Seattle\", \"occupation\": \"Chef\"},\n",
        "    \"Frank\": {\"age\": 32, \"city\": \"Atlanta\", \"occupation\": \"Lawyer\"},\n",
        "    \"Gabriella\": {\"age\": 29, \"city\": \"San Francisco\", \"occupation\": \"Software Engineer\"},\n",
        "    \"Harrison\": {\"age\": 38, \"city\": \"Denver\", \"occupation\": \"Architect\"},\n",
        "    \"Isabella\": {\"age\": 26, \"city\": \"Washington D.C.\", \"occupation\": \"Journalist\"},\n",
        "    \"Julian\": {\"age\": 42, \"city\": \"Miami\", \"occupation\": \"Musician\"},\n",
        "    \"Kate\": {\"age\": 31, \"city\": \"Philadelphia\", \"occupation\": \"Nurse\"},\n",
        "    \"Lucas\": {\"age\": 36, \"city\": \"Nashville\", \"occupation\": \"Businessman\"},\n",
        "    \"Mia\": {\"age\": 27, \"city\": \"Atlanta\", \"occupation\": \"Artist\"},\n",
        "    \"Natalie\": {\"age\": 39, \"city\": \"Portland\", \"occupation\": \"Writer\"},\n",
        "    \"Oliver\": {\"age\": 44, \"city\": \"Minneapolis\", \"occupation\": \"Professor\"},\n",
        "    \"Penelope\": {\"age\": 33, \"city\": \"San Diego\", \"occupation\": \"Marketing Manager\"},\n",
        "    \"Quincy\": {\"age\": 41, \"city\": \"Nashville\", \"occupation\": \"Singer\"},\n",
        "    \"Rachel\": {\"age\": 34, \"city\": \"Cleveland\", \"occupation\": \"Teacher\"},\n",
        "    \"Sophia\": {\"age\": 29, \"city\": \"Nashville\", \"occupation\": \"Engineer\"},\n",
        "    \"Tessa\": {\"age\": 37, \"city\": \"Miami\", \"occupation\": \"Lawyer\"}\n",
        "}\n",
        "\n",
        "\n",
        "def people_30(people_info):\n",
        "    result = []\n",
        "    for name, info in people_info.items():\n",
        "        if info['age'] > 30:\n",
        "            result.append(name)\n",
        "    return result\n",
        "\n",
        "\n",
        "def city_people(people_info):\n",
        "    city_count = {}\n",
        "    for name, info in people_info.items():\n",
        "        city = info['city']\n",
        "        if city in city_count:\n",
        "            city_count[city] += 1\n",
        "        else:\n",
        "            city_count[city] = 1\n",
        "    return city_count\n",
        "\n",
        "\n",
        "def people_occupation(people_info):\n",
        "    occupation_dict = {}\n",
        "    for name, info in people_info.items():\n",
        "        occupation = info['occupation']\n",
        "        if occupation in occupation_dict:\n",
        "            occupation_dict[occupation].append(name)\n",
        "        else:\n",
        "            occupation_dict[occupation] = [name]\n",
        "    return occupation_dict\n",
        "\n",
        "\n",
        "print('Люди старше 30 лет:')\n",
        "print(people_30(people_info))\n",
        "print('Количество людей по городам: ')\n",
        "print(city_people(people_info))\n",
        "print('Профессии и список людей для каждой профессии:')\n",
        "print(people_occupation(people_info))\n"
      ],
      "metadata": {
        "id": "lSNtB39OWtFl",
        "colab": {
          "base_uri": "https://localhost:8080/"
        },
        "outputId": "894fb455-f532-4be4-af9f-471dfce0163d"
      },
      "execution_count": null,
      "outputs": [
        {
          "output_type": "stream",
          "name": "stdout",
          "text": [
            "Люди старше 30 лет:\n",
            "['Charlie', 'Ethan', 'Frank', 'Harrison', 'Julian', 'Kate', 'Lucas', 'Natalie', 'Oliver', 'Penelope', 'Quincy', 'Rachel', 'Tessa']\n",
            "Количество людей по городам: \n",
            "{'New York': 1, 'Los Angeles': 1, 'Chicago': 1, 'Miami': 3, 'Seattle': 1, 'Atlanta': 2, 'San Francisco': 1, 'Denver': 1, 'Washington D.C.': 1, 'Philadelphia': 1, 'Nashville': 3, 'Portland': 1, 'Minneapolis': 1, 'San Diego': 1, 'Cleveland': 1}\n",
            "Профессии и список людей для каждой профессии:\n",
            "{'Engineer': ['Alice', 'Sophia'], 'Designer': ['Bob'], 'Teacher': ['Charlie', 'Rachel'], 'Doctor': ['Diana'], 'Chef': ['Ethan'], 'Lawyer': ['Frank', 'Tessa'], 'Software Engineer': ['Gabriella'], 'Architect': ['Harrison'], 'Journalist': ['Isabella'], 'Musician': ['Julian'], 'Nurse': ['Kate'], 'Businessman': ['Lucas'], 'Artist': ['Mia'], 'Writer': ['Natalie'], 'Professor': ['Oliver'], 'Marketing Manager': ['Penelope'], 'Singer': ['Quincy']}\n"
          ]
        }
      ]
    },
    {
      "cell_type": "code",
      "source": [],
      "metadata": {
        "id": "qcLO5eQwXkNK",
        "colab": {
          "base_uri": "https://localhost:8080/"
        },
        "outputId": "b1a74eaf-3807-4a45-e286-f7ca88426779"
      },
      "execution_count": null,
      "outputs": [
        {
          "output_type": "stream",
          "name": "stdout",
          "text": [
            "<function city_people at 0x7a75a243c280>\n"
          ]
        }
      ]
    },
    {
      "cell_type": "markdown",
      "source": [
        "# **Задание 7**"
      ],
      "metadata": {
        "id": "27IuB2YScezw"
      }
    },
    {
      "cell_type": "markdown",
      "source": [
        "Задание: Разработка системы отзывов о предметах\n",
        "\n",
        "Описание: Создать программу на Python для хранения и управления отзывами о предметах учебного курса. Программа должна позволять пользователям добавлять, просматривать и удалять отзывы, а также вычислять средний балл по заданному предмету.\n",
        "\n",
        "**Функционал:**\n",
        "\n",
        "*   Добавление отзыва и оценки:\n",
        "   *   Пользователь может ввести название предмета, оценку (от 1 до 5) и текст отзыва.\n",
        "   *   Отзывы должны храниться в структуре данных (например, словаре), где ключом будет название предмета, а значением - список отзывов (каждый отзыв может хранить оценку и комментарий).\n",
        "*   Просмотр отзывов и оценок:\n",
        "   *   Пользователь может запросить отзывы для указанного предмета.\n",
        "   *   Если для указанного предмета есть отзывы, программа должна отобразить список всех отзывов и соответствующих оценок.\n",
        "*   Удаление отзыва:\n",
        "   *   Пользователь может удалить отзыв по индексу. Необходимо заранее уведомить пользователя о том, какие отзывы доступны для удаления.\n",
        "   *   Программа должна обработать ситуацию, когда индекс введен неправильно.\n",
        "*   Вычисление среднего балла по предмету:\n",
        "   *   Пользователь может ввести название предмета, и программа должна вычислить и вывести средний балл по всем отзывам для этого предмета.\n",
        "   *   Если отзывов нет, программа должна сообщить об этом.\n",
        "\n",
        "\n",
        "**Критерии:**\n",
        "\n",
        "*   Код должен быть оформлен в виде функций\n",
        "*   Необходимо обрабатывать неправильный ввод пользователя\n",
        "*   Должны быть комментарии к функциям\n",
        "*   Присутсвует весь дополнительный функционал\n",
        "\n",
        "\n",
        "\n",
        "**Опционально:**\n",
        "\n",
        "Предлагаю вам добавить свои критерии оценки или вопросы, на которые должен ответить студент, чтобы оценить пару\n",
        "\n",
        "\n"
      ],
      "metadata": {
        "id": "Fd95-S9cYhct"
      }
    },
    {
      "cell_type": "code",
      "source": [
        "review={}\n",
        "\n",
        "\n",
        "def add_review(subject, rating, comm):\n",
        "  if subject not in review:\n",
        "    review[subject]=[]\n",
        "    review[subject].append((rating, comm))\n",
        "\n",
        "\n",
        "def view_rewiew(subject):\n",
        "  if subject in review and review[subject]:\n",
        "    print (f' Отзыв для предмета {subject}: ')\n",
        "    index =1\n",
        "    for item in review [subject]:\n",
        "      rating = item[0]\n",
        "      comm=item[1]\n",
        "      print (f'{index}, оценка: {rating}, отзыв: {comm} ')\n",
        "      index+=1\n",
        "  else:\n",
        "    print (f'Отзыва по предмету {subject} не нашлось')\n",
        "\n",
        "\n",
        "def delete_review(subject, index):\n",
        "  if subject in review and 0<index<=len(review[subject]):\n",
        "    removed=review[subject].pop(index-1)\n",
        "    print('ваш отзыв с оценкой удален')\n",
        "    if not review[subject]:\n",
        "      del review[subject]\n",
        "  else:\n",
        "    print ('некорректный индекс или нет отзывов')\n",
        "\n",
        "\n",
        "def average_rating(subject):\n",
        "  if subject in review and review[subject]:\n",
        "    rating_znach=0\n",
        "    for item in review[subject]:\n",
        "      rating=item[0]\n",
        "      rating_znach+=rating\n",
        "    aver=rating_znach/len(review[subject])\n",
        "    print(f'средний балл по предмету {subject} составляет {aver}')\n",
        "  else:\n",
        "    print (f'Отзыва по предмету {subject} не нашлось')\n",
        "\n",
        "\n",
        "def main():\n",
        "  while True:\n",
        "    print('вы попали в сиситему отзывов о предмете. Здесь вы можете:')\n",
        "    print('1 - добавить отзыв')\n",
        "    print('2 - посмотреть отзывы')\n",
        "    print('3 - удалить отзыв')\n",
        "    print('4 - посмотреть средний балл')\n",
        "    print('5 -  выйти из системы')\n",
        "    choise=input('выберите дейсвие (1-5): ')\n",
        "    if choise=='1':\n",
        "      subject=input('введите название предмета ')\n",
        "      rating=int(input('введите оценку от 1 до 5 '))\n",
        "      if (rating!=1)and(rating!=2)and(rating!=3)and(rating!=4)and(rating!=5):\n",
        "        print ('оценка введена не верно ')\n",
        "      comm=input('введите отзыв ')\n",
        "      add_review(subject, rating, comm)\n",
        "\n",
        "    elif choise=='2':\n",
        "      subject=input('введите название предмета ')\n",
        "      view_rewiew(subject)\n",
        "\n",
        "    elif choise=='3':\n",
        "      subject=input('введите название предмета ')\n",
        "      view_rewiew(subject)\n",
        "      index=int(input('введите индекс отзыва, который хотите удалить '))\n",
        "      delete_review(subject, index)\n",
        "\n",
        "    elif choise=='4':\n",
        "      subject=input('введите название предмета ')\n",
        "      average_rating(subject)\n",
        "\n",
        "    elif choise=='5':\n",
        "      print('выход из системы ')\n",
        "      break\n",
        "\n",
        "    else:\n",
        "      print ('некорректный ввод')\n",
        "\n",
        "if __name__ == \"__main__\":\n",
        "    main()\n"
      ],
      "metadata": {
        "id": "kzucJrCUa0o7",
        "colab": {
          "base_uri": "https://localhost:8080/"
        },
        "outputId": "1eaa442a-2d02-4a5d-dab2-c465589b502c"
      },
      "execution_count": null,
      "outputs": [
        {
          "output_type": "stream",
          "name": "stdout",
          "text": [
            "вы попали в сиситему отзывов о предмете. Здесь вы можете:\n",
            "1 - добавить отзыв\n",
            "2 - посмотреть отзывы\n",
            "3 - удалить отзыв\n",
            "4 - посмотреть средний балл\n",
            "5 -  выйти из системы\n",
            "выберите дейсвие (1-5): 1\n",
            "введите название предмета Math\n",
            "введите оценку от 1 до 5 5\n",
            "введите отзыв Class \n",
            "вы попали в сиситему отзывов о предмете. Здесь вы можете:\n",
            "1 - добавить отзыв\n",
            "2 - посмотреть отзывы\n",
            "3 - удалить отзыв\n",
            "4 - посмотреть средний балл\n",
            "5 -  выйти из системы\n",
            "выберите дейсвие (1-5): 2\n",
            "введите название предмета Math\n",
            " Отзыв для предмета Math: \n",
            "1, оценка: 5, отзыв: Class  \n",
            "вы попали в сиситему отзывов о предмете. Здесь вы можете:\n",
            "1 - добавить отзыв\n",
            "2 - посмотреть отзывы\n",
            "3 - удалить отзыв\n",
            "4 - посмотреть средний балл\n",
            "5 -  выйти из системы\n",
            "выберите дейсвие (1-5): 3\n",
            "введите название предмета Math\n",
            " Отзыв для предмета Math: \n",
            "1, оценка: 5, отзыв: Class  \n",
            "введите индекс отзыва, который хотите удалить 1\n",
            "ваш отзыв с оценкой удален\n",
            "вы попали в сиситему отзывов о предмете. Здесь вы можете:\n",
            "1 - добавить отзыв\n",
            "2 - посмотреть отзывы\n",
            "3 - удалить отзыв\n",
            "4 - посмотреть средний балл\n",
            "5 -  выйти из системы\n",
            "выберите дейсвие (1-5): 2\n",
            "введите название предмета 5\n",
            "Отзыва по предмету 5 не нашлось\n",
            "вы попали в сиситему отзывов о предмете. Здесь вы можете:\n",
            "1 - добавить отзыв\n",
            "2 - посмотреть отзывы\n",
            "3 - удалить отзыв\n",
            "4 - посмотреть средний балл\n",
            "5 -  выйти из системы\n",
            "выберите дейсвие (1-5): 5\n",
            "выход из системы \n"
          ]
        }
      ]
    }
  ]
}