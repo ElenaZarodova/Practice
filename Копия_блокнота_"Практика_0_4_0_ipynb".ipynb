{
  "nbformat": 4,
  "nbformat_minor": 0,
  "metadata": {
    "colab": {
      "provenance": []
    },
    "kernelspec": {
      "name": "python3",
      "display_name": "Python 3"
    },
    "language_info": {
      "name": "python"
    }
  },
  "cells": [
    {
      "cell_type": "markdown",
      "source": [
        "Введите ваше ФИО: Зародова Елена Николаевна"
      ],
      "metadata": {
        "id": "k8oVfdwrMXyc"
      }
    },
    {
      "cell_type": "code",
      "execution_count": null,
      "metadata": {
        "id": "5mcBLsKMI1-5"
      },
      "outputs": [],
      "source": []
    },
    {
      "cell_type": "markdown",
      "source": [
        "***Дисклеймер***\n",
        "\n",
        "В данной практике запрещено использования функций:\n",
        "\n",
        "\n",
        "*   sum()\n",
        "*   min()\n",
        "*   max()\n",
        "*   average()\n",
        "*   reversed()\n",
        "*   sorted()\n",
        "*   готовые функции или библиотеки\n"
      ],
      "metadata": {
        "id": "8HbYUbm3Jw3o"
      }
    },
    {
      "cell_type": "markdown",
      "source": [
        "\n",
        "**Задача 1:**\n",
        "\n",
        "\n",
        "\n",
        "Интернет-магазин предлагает следующие условия скидок:\n",
        "\n",
        "*   Для заказов больше 1000 единиц, клиент получает скидку 5%. Если клиент использует промокод SUPERDISCOUNT, он получает скидку 10% (вместо 5%).\n",
        "*  Для заказов более 5000 единиц, клиент получает скидку 15%, а использование промокода SUPERDISCOUNT увеличивает скидку до 20% (вместо 15%).\n",
        "\n",
        "Этап 1:\n",
        "Ввод:\n",
        "```\n",
        "Введите стоимость единицы товара: 5\n",
        "Введите количество товара: 1001\n",
        "Введите промокод: GiVEMEDISCONT\n",
        "```\n",
        "\n",
        "Вывод:\n",
        "\n",
        "```\n",
        "Ваша скидка: 5%\n",
        "Итоговая сумма: 4754.75\n",
        "```\n",
        "Этап 2:\n",
        "\n",
        "Оформите ваш код в виде функции"
      ],
      "metadata": {
        "id": "HmX0c6YPJSQr"
      }
    },
    {
      "cell_type": "code",
      "source": [
        "cen_ok=int(input ('введите стоимость единицы товара: '))\n",
        "\n",
        "cnt_ok=int(input('введите количество товара: '))\n",
        "\n",
        "\n",
        "if cnt_ok>1000:\n",
        "  prom=input('введите промокод: ')\n",
        "  if prom=='SUPERDISCOUNT':\n",
        "    print('ваша скидка 10%')\n",
        "    print ('итоговая сумма', (cnt_ok*cen_ok) -(cnt_ok*cen_ok * 0.1))\n",
        "  else:\n",
        "    print('ваша скидка 5%')\n",
        "    print ('итоговая сумма', (cnt_ok*cen_ok) -(cnt_ok*cen_ok * 0.05))\n",
        "if cnt_ok>int(5000):\n",
        "  prom=input('введите промокод: ')\n",
        "  if prom=='SUPERDISCOUNT':\n",
        "    print('ваша скидка 20%')\n",
        "    print ('итоговая сумма', (cnt_ok*cen_ok) -(cnt_ok*cen_ok * 0.2))\n",
        "  else:\n",
        "    print('ваша скидка 15%')\n",
        "    print ('итоговая сумма', (cnt_ok*cen_ok) -(cnt_ok*cen_ok * 0.15))\n",
        "\n"
      ],
      "metadata": {
        "id": "OAIMIpklMN5D",
        "colab": {
          "base_uri": "https://localhost:8080/"
        },
        "outputId": "023fe08a-9c67-4050-fef8-7bd4c75a787a"
      },
      "execution_count": null,
      "outputs": [
        {
          "output_type": "stream",
          "name": "stdout",
          "text": [
            "введите стоимость единицы товара: 5 \n",
            "введите количество товара: 1001\n",
            "введите промокод: GiVEMEDISCONT\n",
            "ваша скидка 5%\n",
            "итоговая сумма 4754.75\n"
          ]
        }
      ]
    },
    {
      "cell_type": "markdown",
      "source": [
        "**Задача 2:**\n",
        "\n",
        "Этап 1:\n",
        "Напишите программу способную отфильтровать список и вывести только положительные элементы\n",
        "\n",
        "\n",
        "Ввод:\n",
        "```\n",
        "-1 5 1 2 -3\n",
        "```\n",
        "\n",
        "Вывод:\n",
        "\n",
        "```\n",
        "5 1 2\n",
        "```\n",
        "\n",
        "Этап 2:\n",
        "\n",
        "Оформите ваш код в виде функции"
      ],
      "metadata": {
        "id": "eeRVWpuLNGJ0"
      }
    },
    {
      "cell_type": "code",
      "source": [
        "def filtr(numbers):\n",
        "  numbers = numbers.split(' ')\n",
        "  sp =[]\n",
        "  for i in numbers:\n",
        "    if not (i[0]=='0' or i[0]=='-'):\n",
        "      sp.append(i)\n",
        "  return (sp)\n",
        "\n",
        "\n",
        "print (\"Введите числа через пробел \")\n",
        "user = input ()\n",
        "p = filtr(user)\n",
        "p = ' '.join(p)\n",
        "print (p)"
      ],
      "metadata": {
        "id": "Xbi6bL0WOE9N",
        "colab": {
          "base_uri": "https://localhost:8080/"
        },
        "outputId": "b034c1e4-c65b-4c57-e401-1fd311206b1f"
      },
      "execution_count": null,
      "outputs": [
        {
          "output_type": "stream",
          "name": "stdout",
          "text": [
            "Введите числа через пробел \n",
            "67 -90 0 78 -77\n",
            "67 78\n"
          ]
        }
      ]
    },
    {
      "cell_type": "markdown",
      "source": [
        "**Задача 3:**\n",
        "\n",
        "Этап 1:\n",
        "Напишите программу реализующую Алгоритм Евклида\n",
        "\n",
        "\n",
        "> Алгоритм Евклида – это алгоритм нахождения наибольшего общего делителя (НОД) пары целых чисел.\n",
        "\n",
        "\n",
        "\n",
        "Ввод:\n",
        "```\n",
        "30 18\n",
        "```\n",
        "\n",
        "Вывод:\n",
        "\n",
        "```\n",
        "6\n",
        "```\n",
        "\n",
        "Этап 2:\n",
        "Оформите ваш код в виде функции\n"
      ],
      "metadata": {
        "id": "lV-w6G-POa6F"
      }
    },
    {
      "cell_type": "code",
      "source": [
        "def d(num_1, num_2):\n",
        "  if num_1>num_2:\n",
        "    n=1\n",
        "    for x in range(1, num_2 +1):\n",
        "      if num_1%x==0 and num_1%x==0 and n<x:\n",
        "        n=x\n",
        "    return n\n",
        "  elif num_2>num_1:\n",
        "    n=1\n",
        "    for x in range (1, num_1+1):\n",
        "      if num_2%x==0 and num_1%x==0:\n",
        "        n=x\n",
        "    return n\n",
        "  else:\n",
        "    return 1\n",
        "\n",
        "\n",
        "\n",
        "num_1=int(input('введите первое число: '))\n",
        "num_2=int(input('введите второе число: '))\n",
        "d=d(num_1, num_2)\n",
        "print (d)\n"
      ],
      "metadata": {
        "id": "X2n6fnd91yt7",
        "colab": {
          "base_uri": "https://localhost:8080/"
        },
        "outputId": "fc62d7b2-e912-455d-d9c9-23501f46e166"
      },
      "execution_count": null,
      "outputs": [
        {
          "output_type": "stream",
          "name": "stdout",
          "text": [
            "введите первое число: 18\n",
            "введите второе число: 30\n",
            "6\n"
          ]
        }
      ]
    },
    {
      "cell_type": "markdown",
      "source": [
        "**Задача 4:**\n",
        "\n",
        "Этап 1:\n",
        "Напишите функцию программу, которая принимает строку и возвращает список слов и количество их упомнинаний в предложении\n",
        "\n",
        "Этап 2:\n",
        "Оформите ваш код в виде функции\n",
        "\n",
        "Ввод:\n",
        "```\n",
        "apple banana apple\n",
        "```\n",
        "\n",
        "Вывод:\n",
        "\n",
        "```\n",
        "apple: 2,\n",
        "banana: 1\n",
        "```"
      ],
      "metadata": {
        "id": "WIfPFxpsO0zL"
      }
    },
    {
      "cell_type": "code",
      "source": [
        "def words_cnt(razd):\n",
        "  words=razd.split()\n",
        "  counts={}\n",
        "  for word in words:\n",
        "    if word in counts:\n",
        "      counts[word]+=1\n",
        "    else:\n",
        "      counts[word]=1\n",
        "  return counts\n",
        "\n",
        "\n",
        "stroka=input('введите строку: ')\n",
        "print (words_cnt(stroka))"
      ],
      "metadata": {
        "id": "DgsmFeW5Po_x",
        "colab": {
          "base_uri": "https://localhost:8080/"
        },
        "outputId": "66881632-f4ed-4793-8bcf-72c6e3511a19"
      },
      "execution_count": null,
      "outputs": [
        {
          "output_type": "stream",
          "name": "stdout",
          "text": [
            "введите строку: apple banana apple\n",
            "{'apple': 2, 'banana': 1}\n"
          ]
        }
      ]
    },
    {
      "cell_type": "markdown",
      "source": [
        "**Задача 5:**\n",
        "\n",
        "Этап 1:\n",
        "Детектор анаграмм Напишите программу на Python, которая принимает в качестве входных данных две строки и проверяет, являются ли они анаграммами друг друга\n",
        "\n",
        "Этап 2:\n",
        "Оформите ваш код в виде функции\n",
        "\n",
        "Ввод:\n",
        "```\n",
        "listen, silent\n",
        "```\n",
        "\n",
        "Вывод:\n",
        "\n",
        "```\n",
        "True\n",
        "```"
      ],
      "metadata": {
        "id": "5BmIJLUZP9I-"
      }
    },
    {
      "cell_type": "code",
      "source": [
        "string1=input('введите первую строку на англ языке маленькими буквами: ')\n",
        "string2=input('введите вторую строку на англ языке маленькими буквами: ')\n",
        "\n",
        "\n",
        "def anagram(string1, string2):\n",
        "  if len(string1) != len(string2):\n",
        "    return False\n",
        "  alph='abcdefghijklmnopqrstuvwxyz'\n",
        "  let_1=[0]*26\n",
        "  let_2=[0]*26\n",
        "  for i in string1:\n",
        "    if i in alph:\n",
        "      index=alph.index(i)\n",
        "      let_1[index]+=1\n",
        "  for i in string2:\n",
        "    if i in alph:\n",
        "      index=alph.index(i)\n",
        "      let_2[index]+=1\n",
        "  return let_1==let_2\n",
        "\n",
        "\n",
        "if anagram(string1,string2):\n",
        "  print ('True')\n",
        "else:\n",
        "  print ('False')\n",
        "\n"
      ],
      "metadata": {
        "id": "7LNW8DuHQJwH",
        "colab": {
          "base_uri": "https://localhost:8080/"
        },
        "outputId": "1346942f-4edb-4aef-fdc6-4bd4ed2e4a9e"
      },
      "execution_count": null,
      "outputs": [
        {
          "output_type": "stream",
          "name": "stdout",
          "text": [
            "введите первую строку на англ языке маленькими буквами: listen\n",
            "введите вторую строку на англ языке маленькими буквами: silent\n",
            "True\n"
          ]
        }
      ]
    },
    {
      "cell_type": "markdown",
      "source": [
        "**Задача 6:**\n",
        "\n",
        "Шифр ​​Цезаря\n",
        "\n",
        "Напишите программу на Python, которая реализует шифр Цезаря, простой метод шифрования, который заменяет каждую букву буквой на фиксированное количество позиций вниз по алфавиту. Программа должна запрашивать у пользователя сообщение и значение сдвига, а затем шифровать и расшифровывать сообщение.\n",
        "\n",
        "Этап 1:\n",
        "\n",
        "Напишите код для реализации данной задачи\n",
        "\n",
        "Этап 2:\n",
        "\n",
        "Оформите код в виде нескольких функций:\n",
        "\n",
        "* Зашифровывает сообщение\n",
        "* Расшифровывает сообщение"
      ],
      "metadata": {
        "id": "-SIWYSq2QKBh"
      }
    },
    {
      "cell_type": "code",
      "source": [
        "def chezar(str, chifr):\n",
        "  res=''\n",
        "  alf='abcdefghijklmnopqrstuvwxyz'\n",
        "  for i in str:\n",
        "    if i in alf:\n",
        "      index=alf.index(i)\n",
        "      new_index=(index + chifr) %26\n",
        "      res+=alf[new_index]\n",
        "  return res\n",
        "\n",
        "\n",
        "string=input('введите сообщение на англ языке только строчными буквами: ')\n",
        "chifr=int(input('введите сдвиг в виде числа ' ))\n",
        "zachofr=chezar(string, chifr)\n",
        "raschofr=chezar(zachofr, -chifr)\n",
        "print ('зашифрованное сообщение', zachofr)\n",
        "print ('расшифрованное сообщение', raschofr)\n"
      ],
      "metadata": {
        "id": "anThYirsQe6N",
        "colab": {
          "base_uri": "https://localhost:8080/"
        },
        "outputId": "23d9e8f6-c3ed-476a-9209-ac6f8e53d572"
      },
      "execution_count": null,
      "outputs": [
        {
          "output_type": "stream",
          "name": "stdout",
          "text": [
            "введите сообщение на англ языке только строчными буквами: i like eat\n",
            "введите сдвиг в виде числа 4\n",
            "зашифрованное сообщение mpmoiiex\n",
            "расшифрованное сообщение ilikeeat\n"
          ]
        }
      ]
    },
    {
      "cell_type": "markdown",
      "source": [
        "**Задача 7**\n",
        "\n",
        "Задача: «Банковская система»\n",
        "\n",
        "Создайте программу Python, которая имитирует базовую банковскую систему. Система должна иметь следующие функции:\n",
        "\n",
        "Требования\n",
        "*   Система должна позволять клиентам создавать счета и хранить их балансы.\n",
        "*   Система должна позволять клиентам вносить и снимать деньги со своих счетов.\n",
        "*   Система должна позволять клиентам проверять свой текущий баланс.\n",
        "*   Система должна позволять клиентам переводить деньги между счетами.\n",
        "*   Система должна отслеживать транзакции (депозиты, снятия и переводы) и иметь возможность печатать детали транзакций.\n",
        "\n",
        "\n",
        "Задачи\n",
        "1. Реализуйте банковскую систему, используя только базовые конструкции Python, такие как def, lists, if, elif и else, без классов или словарей.\n",
        "Определите функции для создания счетов, внесения и снятия денег, получения балансов счетов, перевода денег между счетами, а также создания и печати транзакций.\n",
        "2. Напишите основную функцию, которая демонстрирует использование банковской системы путем создания счетов, внесения и снятия денег и перевода денег между счетами.\n",
        "3. Бонусное задание\n",
        "Реализуйте способ хранения и печати истории транзакций для каждого счета.\n",
        "\n",
        "Ограничения\n",
        "Не используйте классы или словари.\n",
        "Используйте только базовые конструкции Python, такие как def, lists, if, elif и else.\n"
      ],
      "metadata": {
        "id": "avFZRRXrQz9O"
      }
    },
    {
      "cell_type": "code",
      "source": [
        "def get_account(accounts):\n",
        "  accounts.append(0)\n",
        "  return accounts\n",
        "\n",
        "\n",
        "def vnesti (accounts, x, y):\n",
        "  accounts[x-1] +=y\n",
        "  return accounts\n",
        "\n",
        "\n",
        "def snimat (accounts, x, y):\n",
        "  accounts[x-1]-=y\n",
        "  return accounts\n",
        "\n",
        "\n",
        "def perevesti (accounts, x1,x2,y):\n",
        "  accounts[x1-1] +=y\n",
        "  accounts[x2-1] -=y\n",
        "  return accounts\n",
        "\n",
        "\n",
        "def balance(accounts, x):\n",
        "  return accounts[x-1]\n",
        "\n",
        "\n",
        "accounts = []\n",
        "while True:\n",
        "  print ('Здравствуйте, вы находитесь в банковской системе')\n",
        "  print ('1-Создать счет')\n",
        "  print ('2-Внести деньги на счет')\n",
        "  print ('3-Снять деньги со счета')\n",
        "  print ('4-Проверить баланс')\n",
        "  print ('5-Перевести деньги между счетами')\n",
        "  print ('6-Выйти')\n",
        "  print ('Укажите, пожалуйста номер выбранной функции')\n",
        "\n",
        "\n",
        "  user_input = input()\n",
        "  if user_input == '1':\n",
        "    accounts = get_account(accounts)\n",
        "    schet = 0\n",
        "    for n in accounts:\n",
        "      schet+=1\n",
        "    print(f'Вы создали новый счет {len(accounts)}')\n",
        "\n",
        "  elif user_input == '2':\n",
        "    x = int(input('Введите номер счета: '))\n",
        "    if 1 <= x <= len(accounts):\n",
        "      y = int(input('ВВедите сумму пополнения: '))\n",
        "      accounts = vnesti (accounts, x, y)\n",
        "      print ('Текущий баланс ', accounts[x-1])\n",
        "\n",
        "  elif user_input == '3':\n",
        "    x = int(input('Введите номер счета: '))\n",
        "    if 1 <= x <= len(accounts):\n",
        "      y = int(input('ВВедите сумму снятия: '))\n",
        "      if accounts[x-1]>=y:\n",
        "        accounts = snimat (accounts, x)\n",
        "        print('Деньги сняты, текущий баланс ', accounts[x-1])\n",
        "      else:\n",
        "        print('Недосаточно соедств')\n",
        "\n",
        "  elif user_input=='4':\n",
        "    x = int(input('Введите номер счета: '))\n",
        "    if 1<=x<=len(accounts):\n",
        "      print ('Баланс составляет', balance(accounts, x))\n",
        "\n",
        "  elif user_input == '5':\n",
        "    x1 = int (input('Введите номер счета пополнения '))\n",
        "    x2 = int(input('Введите номер счета снятия '))\n",
        "    if 1<=x1<=len(accounts) and 1<=x2<=len(accounts):\n",
        "      y = int(input('ВВедите сумму '))\n",
        "    if accounts[x2-1]>=y:\n",
        "      accounts = perevesti (accounts, x1,x2,y)\n",
        "      print('Баланс счета для снятия', accounts[x2-1])\n",
        "      print('Баланс счета полонения', accounts[x1-1])\n",
        "    else:\n",
        "      print('Недостаточно средств')\n",
        "\n",
        "  elif user_input == '6':\n",
        "    print('Выход их программы')\n",
        "    break"
      ],
      "metadata": {
        "id": "dWEW10zIRwjs",
        "colab": {
          "base_uri": "https://localhost:8080/"
        },
        "outputId": "1c07b453-4175-4701-f236-c7a1a1dc6d59"
      },
      "execution_count": null,
      "outputs": [
        {
          "output_type": "stream",
          "name": "stdout",
          "text": [
            "Здравствуйте, вы находитесь в банковской системе\n",
            "1-Создать счет\n",
            "2-Внести деньги на счет\n",
            "3-Снять деньги со счета\n",
            "4-Проверить баланс\n",
            "5-Перевести деньги между счетами\n",
            "6-Выйти\n",
            "Укажите, пожалуйста номер выбранной функции\n",
            "1\n",
            "Вы создали новый счет 1\n",
            "Здравствуйте, вы находитесь в банковской системе\n",
            "1-Создать счет\n",
            "2-Внести деньги на счет\n",
            "3-Снять деньги со счета\n",
            "4-Проверить баланс\n",
            "5-Перевести деньги между счетами\n",
            "6-Выйти\n",
            "Укажите, пожалуйста номер выбранной функции\n",
            "2\n",
            "Введите номер счета: 1\n",
            "ВВедите сумму пополнения: 23\n",
            "Текущий баланс  23\n",
            "Здравствуйте, вы находитесь в банковской системе\n",
            "1-Создать счет\n",
            "2-Внести деньги на счет\n",
            "3-Снять деньги со счета\n",
            "4-Проверить баланс\n",
            "5-Перевести деньги между счетами\n",
            "6-Выйти\n",
            "Укажите, пожалуйста номер выбранной функции\n",
            "4\n",
            "Введите номер счета: 1\n",
            "23\n",
            "Здравствуйте, вы находитесь в банковской системе\n",
            "1-Создать счет\n",
            "2-Внести деньги на счет\n",
            "3-Снять деньги со счета\n",
            "4-Проверить баланс\n",
            "5-Перевести деньги между счетами\n",
            "6-Выйти\n",
            "Укажите, пожалуйста номер выбранной функции\n",
            "3\n",
            "Введите номер счета: 1\n",
            "ВВедите сумму снятия: 43\n",
            "Недосаточно соедств\n",
            "Здравствуйте, вы находитесь в банковской системе\n",
            "1-Создать счет\n",
            "2-Внести деньги на счет\n",
            "3-Снять деньги со счета\n",
            "4-Проверить баланс\n",
            "5-Перевести деньги между счетами\n",
            "6-Выйти\n",
            "Укажите, пожалуйста номер выбранной функции\n",
            "6\n",
            "Выход их программы\n"
          ]
        }
      ]
    }
  ]
}